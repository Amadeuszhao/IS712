{
 "cells": [
  {
   "cell_type": "code",
   "execution_count": 2,
   "metadata": {},
   "outputs": [
    {
     "name": "stdout",
     "output_type": "stream",
     "text": [
      "Collecting msgpack\n",
      "\u001b[?25l  Downloading https://files.pythonhosted.org/packages/61/3c/2206f39880d38ca7ad8ac1b28d2d5ca81632d163b2d68ef90e46409ca057/msgpack-1.0.3.tar.gz (123kB)\n",
      "\u001b[K    100% |████████████████████████████████| 133kB 13.5MB/s ta 0:00:01\n",
      "\u001b[?25hBuilding wheels for collected packages: msgpack\n",
      "  Running setup.py bdist_wheel for msgpack ... \u001b[?25ldone\n",
      "\u001b[?25h  Stored in directory: /home/amadeus/.cache/pip/wheels/b4/58/67/1a6b3c87c4b15456c801d68297a8d6e9040b1e95f3293a82cf\n",
      "Successfully built msgpack\n",
      "Installing collected packages: msgpack\n",
      "Successfully installed msgpack-1.0.3\n",
      "\u001b[33mYou are using pip version 10.0.1, however version 21.3.1 is available.\n",
      "You should consider upgrading via the 'pip install --upgrade pip' command.\u001b[0m\n"
     ]
    }
   ],
   "source": []
  },
  {
   "cell_type": "code",
   "execution_count": 4,
   "metadata": {},
   "outputs": [],
   "source": [
    "!parted -l"
   ]
  },
  {
   "cell_type": "code",
   "execution_count": 2,
   "metadata": {},
   "outputs": [
    {
     "name": "stdout",
     "output_type": "stream",
     "text": [
      "Collecting pip\n",
      "  Downloading pip-22.0.4-py3-none-any.whl (2.1 MB)\n",
      "\u001b[K     |████████████████████████████████| 2.1 MB 12.3 MB/s eta 0:00:01\n",
      "\u001b[?25hInstalling collected packages: pip\n",
      "Successfully installed pip-22.0.4\n"
     ]
    }
   ],
   "source": [
    "!pip install --upgrade pip"
   ]
  },
  {
   "cell_type": "code",
   "execution_count": 6,
   "metadata": {},
   "outputs": [
    {
     "name": "stdout",
     "output_type": "stream",
     "text": [
      "/content/train.csv: No such file or directory\n",
      "/content/test_phase_1.csv: No such file or directory\n"
     ]
    }
   ],
   "source": [
    "!wget -O /content/train.csv https://www.dropbox.com/s/90z42z12dqd2p2b/train_update.csv?dl=0\n",
    "!wget -O /content/test_phase_1.csv https://www.dropbox.com/s/9dzmde0ewg2t35l/test_phase_1_update.csv?dl=0"
   ]
  },
  {
   "cell_type": "code",
   "execution_count": 5,
   "metadata": {},
   "outputs": [],
   "source": [
    "!mkdir content"
   ]
  },
  {
   "cell_type": "code",
   "execution_count": 7,
   "metadata": {},
   "outputs": [
    {
     "name": "stdout",
     "output_type": "stream",
     "text": [
      "wget: missing URL\n",
      "Usage: wget [OPTION]... [URL]...\n",
      "\n",
      "Try `wget --help' for more options.\n",
      "wget: missing URL\n",
      "Usage: wget [OPTION]... [URL]...\n",
      "\n",
      "Try `wget --help' for more options.\n"
     ]
    }
   ],
   "source": [
    "!wget -O  https://www.dropbox.com/s/90z42z12dqd2p2b/train_update.csv?dl=0\n",
    "!wget -O  https://www.dropbox.com/s/9dzmde0ewg2t35l/test_phase_1_update.csv?dl=0"
   ]
  },
  {
   "cell_type": "code",
   "execution_count": 2,
   "metadata": {},
   "outputs": [],
   "source": [
    "import pandas as pd\n",
    "\n",
    "train_df = pd.read_csv('./content/train.csv') # 1179\n",
    "test_df = pd.read_csv('./content/test_phase_1.csv') # 150"
   ]
  },
  {
   "cell_type": "code",
   "execution_count": 2,
   "metadata": {},
   "outputs": [
    {
     "name": "stdout",
     "output_type": "stream",
     "text": [
      "Defaulting to user installation because normal site-packages is not writeable\n",
      "Collecting pandas\n",
      "  Downloading pandas-1.4.1-cp38-cp38-manylinux_2_17_x86_64.manylinux2014_x86_64.whl (11.7 MB)\n",
      "\u001b[2K     \u001b[38;2;114;156;31m━━━━━━━━━━━━━━━━━━━━━━━━━━━━━━━━━━━━━━━━\u001b[0m \u001b[32m11.7/11.7 MB\u001b[0m \u001b[31m21.6 MB/s\u001b[0m eta \u001b[36m0:00:00\u001b[0mm eta \u001b[36m0:00:01\u001b[0m[36m0:00:01\u001b[0m\n",
      "\u001b[?25hRequirement already satisfied: numpy>=1.18.5 in /home/amadeus/.local/lib/python3.8/site-packages (from pandas) (1.22.3)\n",
      "Collecting python-dateutil>=2.8.1\n",
      "  Downloading python_dateutil-2.8.2-py2.py3-none-any.whl (247 kB)\n",
      "\u001b[2K     \u001b[38;2;114;156;31m━━━━━━━━━━━━━━━━━━━━━━━━━━━━━━━━━━━━━━\u001b[0m \u001b[32m247.7/247.7 KB\u001b[0m \u001b[31m13.2 MB/s\u001b[0m eta \u001b[36m0:00:00\u001b[0m\n",
      "\u001b[?25hCollecting pytz>=2020.1\n",
      "  Downloading pytz-2021.3-py2.py3-none-any.whl (503 kB)\n",
      "\u001b[2K     \u001b[38;2;114;156;31m━━━━━━━━━━━━━━━━━━━━━━━━━━━━━━━━━━━━━━\u001b[0m \u001b[32m503.5/503.5 KB\u001b[0m \u001b[31m39.2 MB/s\u001b[0m eta \u001b[36m0:00:00\u001b[0m\n",
      "\u001b[?25hRequirement already satisfied: six>=1.5 in /usr/lib/python3/dist-packages (from python-dateutil>=2.8.1->pandas) (1.14.0)\n",
      "Installing collected packages: pytz, python-dateutil, pandas\n",
      "Successfully installed pandas-1.4.1 python-dateutil-2.8.2 pytz-2021.3\n"
     ]
    }
   ],
   "source": [
    "!pip install pandas"
   ]
  },
  {
   "cell_type": "code",
   "execution_count": 3,
   "metadata": {},
   "outputs": [
    {
     "data": {
      "text/html": [
       "<div>\n",
       "<style scoped>\n",
       "    .dataframe tbody tr th:only-of-type {\n",
       "        vertical-align: middle;\n",
       "    }\n",
       "\n",
       "    .dataframe tbody tr th {\n",
       "        vertical-align: top;\n",
       "    }\n",
       "\n",
       "    .dataframe thead th {\n",
       "        text-align: right;\n",
       "    }\n",
       "</style>\n",
       "<table border=\"1\" class=\"dataframe\">\n",
       "  <thead>\n",
       "    <tr style=\"text-align: right;\">\n",
       "      <th></th>\n",
       "      <th>ID</th>\n",
       "      <th>Claim</th>\n",
       "      <th>Evidence</th>\n",
       "      <th>Label</th>\n",
       "    </tr>\n",
       "  </thead>\n",
       "  <tbody>\n",
       "    <tr>\n",
       "      <th>0</th>\n",
       "      <td>0</td>\n",
       "      <td>Antidepressants increase the severity of migra...</td>\n",
       "      <td>Tricyclics were also more likely to reduce the...</td>\n",
       "      <td>2</td>\n",
       "    </tr>\n",
       "    <tr>\n",
       "      <th>1</th>\n",
       "      <td>1</td>\n",
       "      <td>Citrullinated proteins externalized in neutrop...</td>\n",
       "      <td>These observations implicate accelerated NETos...</td>\n",
       "      <td>1</td>\n",
       "    </tr>\n",
       "    <tr>\n",
       "      <th>2</th>\n",
       "      <td>2</td>\n",
       "      <td>Recognition of start codons depends on the tra...</td>\n",
       "      <td>IF3 and tRNA undergo large conformational chan...</td>\n",
       "      <td>1</td>\n",
       "    </tr>\n",
       "    <tr>\n",
       "      <th>3</th>\n",
       "      <td>3</td>\n",
       "      <td>Ca2+ cycling is a UCP1-dependent thermogenic m...</td>\n",
       "      <td>Conversely, enhanced Ca2+ cycling by activatio...</td>\n",
       "      <td>2</td>\n",
       "    </tr>\n",
       "    <tr>\n",
       "      <th>4</th>\n",
       "      <td>4</td>\n",
       "      <td>Weighed food records (WFR) result in poor comp...</td>\n",
       "      <td>The Hippo pathway controls organ size and tiss...</td>\n",
       "      <td>0</td>\n",
       "    </tr>\n",
       "  </tbody>\n",
       "</table>\n",
       "</div>"
      ],
      "text/plain": [
       "   ID                                              Claim  \\\n",
       "0   0  Antidepressants increase the severity of migra...   \n",
       "1   1  Citrullinated proteins externalized in neutrop...   \n",
       "2   2  Recognition of start codons depends on the tra...   \n",
       "3   3  Ca2+ cycling is a UCP1-dependent thermogenic m...   \n",
       "4   4  Weighed food records (WFR) result in poor comp...   \n",
       "\n",
       "                                            Evidence  Label  \n",
       "0  Tricyclics were also more likely to reduce the...      2  \n",
       "1  These observations implicate accelerated NETos...      1  \n",
       "2  IF3 and tRNA undergo large conformational chan...      1  \n",
       "3  Conversely, enhanced Ca2+ cycling by activatio...      2  \n",
       "4  The Hippo pathway controls organ size and tiss...      0  "
      ]
     },
     "execution_count": 3,
     "metadata": {},
     "output_type": "execute_result"
    }
   ],
   "source": [
    "train_df.head(5)"
   ]
  },
  {
   "cell_type": "code",
   "execution_count": 4,
   "metadata": {},
   "outputs": [
    {
     "name": "stderr",
     "output_type": "stream",
     "text": [
      "[nltk_data] Downloading package punkt to /home/amadeus/nltk_data...\n",
      "[nltk_data]   Package punkt is already up-to-date!\n"
     ]
    }
   ],
   "source": [
    "import argparse\n",
    "import glob\n",
    "import os\n",
    "import json\n",
    "import time\n",
    "import logging\n",
    "import random\n",
    "import re\n",
    "from itertools import chain\n",
    "from string import punctuation\n",
    "\n",
    "import nltk\n",
    "nltk.download('punkt')\n",
    "from nltk.tokenize import sent_tokenize\n",
    "\n",
    "import pandas as pd\n",
    "import numpy as np\n",
    "import torch\n",
    "from torch.utils.data import Dataset, DataLoader\n",
    "import pytorch_lightning as pl"
   ]
  },
  {
   "cell_type": "code",
   "execution_count": 7,
   "metadata": {},
   "outputs": [
    {
     "name": "stdout",
     "output_type": "stream",
     "text": [
      "Defaulting to user installation because normal site-packages is not writeable\n",
      "Collecting nltk\n",
      "  Downloading nltk-3.7-py3-none-any.whl (1.5 MB)\n",
      "\u001b[2K     \u001b[38;2;114;156;31m━━━━━━━━━━━━━━━━━━━━━━━━━━━━━━━━━━━━━━━━\u001b[0m \u001b[32m1.5/1.5 MB\u001b[0m \u001b[31m20.1 MB/s\u001b[0m eta \u001b[36m0:00:00\u001b[0m31m21.2 MB/s\u001b[0m eta \u001b[36m0:00:01\u001b[0m\n",
      "\u001b[?25hRequirement already satisfied: regex>=2021.8.3 in /home/amadeus/.local/lib/python3.8/site-packages (from nltk) (2022.3.15)\n",
      "Requirement already satisfied: joblib in /home/amadeus/.local/lib/python3.8/site-packages (from nltk) (1.1.0)\n",
      "Requirement already satisfied: click in /usr/lib/python3/dist-packages (from nltk) (7.0)\n",
      "Requirement already satisfied: tqdm in /home/amadeus/.local/lib/python3.8/site-packages (from nltk) (4.63.0)\n",
      "Installing collected packages: nltk\n",
      "Successfully installed nltk-3.7\n"
     ]
    }
   ],
   "source": [
    "!pip install nltk"
   ]
  },
  {
   "cell_type": "code",
   "execution_count": 5,
   "metadata": {},
   "outputs": [
    {
     "name": "stderr",
     "output_type": "stream",
     "text": [
      "INFO:transformers.file_utils:PyTorch version 1.11.0+cu102 available.\n"
     ]
    }
   ],
   "source": [
    "from transformers import AdamW,T5ForConditionalGeneration,T5Tokenizer,get_linear_schedule_with_warmup\n"
   ]
  },
  {
   "cell_type": "code",
   "execution_count": 6,
   "metadata": {},
   "outputs": [],
   "source": [
    "def set_seed(seed):\n",
    "  random.seed(seed)\n",
    "  np.random.seed(seed)\n",
    "  torch.manual_seed(seed)\n",
    "  if torch.cuda.is_available():\n",
    "    torch.cuda.manual_seed_all(seed)\n",
    "\n",
    "set_seed(42)"
   ]
  },
  {
   "cell_type": "code",
   "execution_count": 7,
   "metadata": {},
   "outputs": [],
   "source": [
    "class T5FineTuner(pl.LightningModule):\n",
    "  def __init__(self, hparams):\n",
    "    super(T5FineTuner, self).__init__()\n",
    "    self.hparams = hparams\n",
    "    \n",
    "    self.model = T5ForConditionalGeneration.from_pretrained(hparams.model_name_or_path)\n",
    "    self.tokenizer = T5Tokenizer.from_pretrained(hparams.tokenizer_name_or_path)\n",
    "  \n",
    "  def is_logger(self):\n",
    "    return self.trainer.proc_rank <= 0\n",
    "  \n",
    "  def forward(\n",
    "      self, input_ids, attention_mask=None, decoder_input_ids=None, decoder_attention_mask=None, lm_labels=None\n",
    "  ):\n",
    "    return self.model(\n",
    "        input_ids,\n",
    "        attention_mask=attention_mask,\n",
    "        decoder_input_ids=decoder_input_ids,\n",
    "        decoder_attention_mask=decoder_attention_mask,\n",
    "        lm_labels=lm_labels,\n",
    "    )\n",
    "\n",
    "  def _step(self, batch):\n",
    "    lm_labels = batch[\"target_ids\"]\n",
    "    lm_labels[lm_labels[:, :] == self.tokenizer.pad_token_id] = -100\n",
    "\n",
    "    outputs = self(\n",
    "        input_ids=batch[\"source_ids\"],\n",
    "        attention_mask=batch[\"source_mask\"],\n",
    "        lm_labels=lm_labels,\n",
    "        decoder_attention_mask=batch['target_mask']\n",
    "    )\n",
    "\n",
    "    loss = outputs[0]\n",
    "\n",
    "    return loss\n",
    "\n",
    "  def training_step(self, batch, batch_idx):\n",
    "    loss = self._step(batch)\n",
    "\n",
    "    tensorboard_logs = {\"train_loss\": loss}\n",
    "    return {\"loss\": loss, \"log\": tensorboard_logs}\n",
    "  \n",
    "  def training_epoch_end(self, outputs):\n",
    "    avg_train_loss = torch.stack([x[\"loss\"] for x in outputs]).mean()\n",
    "    tensorboard_logs = {\"avg_train_loss\": avg_train_loss}\n",
    "    return {\"avg_train_loss\": avg_train_loss, \"log\": tensorboard_logs, 'progress_bar': tensorboard_logs}\n",
    "\n",
    "  def validation_step(self, batch, batch_idx):\n",
    "    loss = self._step(batch)\n",
    "    return {\"val_loss\": loss}\n",
    "  \n",
    "  def validation_epoch_end(self, outputs):\n",
    "    avg_loss = torch.stack([x[\"val_loss\"] for x in outputs]).mean()\n",
    "    tensorboard_logs = {\"val_loss\": avg_loss}\n",
    "    return {\"avg_val_loss\": avg_loss, \"log\": tensorboard_logs, 'progress_bar': tensorboard_logs}\n",
    "\n",
    "  def configure_optimizers(self):\n",
    "    \"Prepare optimizer and schedule (linear warmup and decay)\"\n",
    "\n",
    "    model = self.model\n",
    "    no_decay = [\"bias\", \"LayerNorm.weight\"]\n",
    "    optimizer_grouped_parameters = [\n",
    "        {\n",
    "            \"params\": [p for n, p in model.named_parameters() if not any(nd in n for nd in no_decay)],\n",
    "            \"weight_decay\": self.hparams.weight_decay,\n",
    "        },\n",
    "        {\n",
    "            \"params\": [p for n, p in model.named_parameters() if any(nd in n for nd in no_decay)],\n",
    "            \"weight_decay\": 0.0,\n",
    "        },\n",
    "    ]\n",
    "    optimizer = AdamW(optimizer_grouped_parameters, lr=self.hparams.learning_rate, eps=self.hparams.adam_epsilon)\n",
    "    self.opt = optimizer\n",
    "    return [optimizer]\n",
    "  \n",
    "  def optimizer_step(self, epoch, batch_idx, optimizer, optimizer_idx, second_order_closure=None):\n",
    "    if self.trainer.use_tpu:\n",
    "      xm.optimizer_step(optimizer)\n",
    "    else:\n",
    "      optimizer.step()\n",
    "    optimizer.zero_grad()\n",
    "    self.lr_scheduler.step()\n",
    "  \n",
    "  def get_tqdm_dict(self):\n",
    "    tqdm_dict = {\"loss\": \"{:.3f}\".format(self.trainer.avg_loss), \"lr\": self.lr_scheduler.get_last_lr()[-1]}\n",
    "\n",
    "    return tqdm_dict\n",
    "\n",
    "  def train_dataloader(self):\n",
    "    train_dataset = get_dataset(tokenizer=self.tokenizer, type_path=\"train\", args=self.hparams)\n",
    "    dataloader = DataLoader(train_dataset, batch_size=self.hparams.train_batch_size, drop_last=True, shuffle=True, num_workers=4)\n",
    "    t_total = (\n",
    "        (len(dataloader.dataset) // (self.hparams.train_batch_size * max(1, self.hparams.n_gpu)))\n",
    "        // self.hparams.gradient_accumulation_steps\n",
    "        * float(self.hparams.num_train_epochs)\n",
    "    )\n",
    "    scheduler = get_linear_schedule_with_warmup(\n",
    "        self.opt, num_warmup_steps=self.hparams.warmup_steps, num_training_steps=t_total\n",
    "    )\n",
    "    self.lr_scheduler = scheduler\n",
    "    return dataloader\n",
    "\n",
    "  def val_dataloader(self):\n",
    "    val_dataset = get_dataset(tokenizer=self.tokenizer, type_path=\"val\", args=self.hparams)\n",
    "    return DataLoader(val_dataset, batch_size=self.hparams.eval_batch_size, num_workers=4)"
   ]
  },
  {
   "cell_type": "code",
   "execution_count": 8,
   "metadata": {},
   "outputs": [],
   "source": [
    "logger = logging.getLogger(__name__)\n",
    "\n",
    "class LoggingCallback(pl.Callback):\n",
    "  def on_validation_end(self, trainer, pl_module):\n",
    "    logger.info(\"***** Validation results *****\")\n",
    "    if pl_module.is_logger():\n",
    "      metrics = trainer.callback_metrics\n",
    "      # Log results\n",
    "      for key in sorted(metrics):\n",
    "        if key not in [\"log\", \"progress_bar\"]:\n",
    "          logger.info(\"{} = {}\\n\".format(key, str(metrics[key])))\n",
    "\n",
    "  def on_test_end(self, trainer, pl_module):\n",
    "    logger.info(\"***** Test results *****\")\n",
    "\n",
    "    if pl_module.is_logger():\n",
    "      metrics = trainer.callback_metrics\n",
    "\n",
    "      # Log and save results to file\n",
    "      output_test_results_file = os.path.join(pl_module.hparams.output_dir, \"test_results.txt\")\n",
    "      with open(output_test_results_file, \"w\") as writer:\n",
    "        for key in sorted(metrics):\n",
    "          if key not in [\"log\", \"progress_bar\"]:\n",
    "            logger.info(\"{} = {}\\n\".format(key, str(metrics[key])))\n",
    "            writer.write(\"{} = {}\\n\".format(key, str(metrics[key])))"
   ]
  },
  {
   "cell_type": "code",
   "execution_count": 9,
   "metadata": {},
   "outputs": [],
   "source": [
    "args_dict = dict(\n",
    "    data_dir=\"\", # path for data files\n",
    "    output_dir=\"\", # path to save the checkpoints\n",
    "    model_name_or_path='t5-base',\n",
    "    tokenizer_name_or_path='t5-base',\n",
    "    max_seq_length=512,\n",
    "    learning_rate=3e-4,\n",
    "    weight_decay=0.0,\n",
    "    adam_epsilon=1e-8,\n",
    "    warmup_steps=0,\n",
    "    train_batch_size=8,\n",
    "    eval_batch_size=8,\n",
    "    num_train_epochs=2,\n",
    "    gradient_accumulation_steps=16,\n",
    "    n_gpu=1,\n",
    "    early_stop_callback=False,\n",
    "    fp_16=False, # if you want to enable 16-bit training then install apex and set this to true\n",
    "    opt_level='O1', # you can find out more on optimisation levels here https://nvidia.github.io/apex/amp.html#opt-levels-and-properties\n",
    "    max_grad_norm=1.0, # if you enable 16-bit training then set this to a sensible value, 0.5 is a good default\n",
    "    seed=42,\n",
    ")"
   ]
  },
  {
   "cell_type": "code",
   "execution_count": 10,
   "metadata": {},
   "outputs": [],
   "source": [
    "train_examples = []\n",
    "for index, row in train_df.iterrows():\n",
    "  # print (row)\n",
    "  claim, evidence, label = row['Claim'], row['Evidence'], row['Label']\n",
    "  train_examples.append([claim.strip(), evidence.strip(), label])\n",
    "\n",
    "random.shuffle(train_examples)\n",
    "valid_num = int(len(train_examples)*0.1)\n",
    "valid_examples = train_examples[:valid_num]\n",
    "train_examples = train_examples[valid_num:]\n",
    "\n",
    "test_examples = []\n",
    "for index, row in test_df.iterrows():\n",
    "  # print (row)\n",
    "  claim, evidence = row['Claim'], row['Evidence']\n",
    "  test_examples.append([claim.strip(), evidence.strip()])"
   ]
  },
  {
   "cell_type": "code",
   "execution_count": 11,
   "metadata": {},
   "outputs": [],
   "source": [
    "label_int = {\"NonInfo\":0,\"Supports\":1, 'Refutes':2}\n",
    "labels = ['NonInfo',\"Supports\",\"Refutes\"]"
   ]
  },
  {
   "cell_type": "code",
   "execution_count": 12,
   "metadata": {},
   "outputs": [
    {
     "name": "stderr",
     "output_type": "stream",
     "text": [
      "INFO:transformers.tokenization_utils:loading file https://s3.amazonaws.com/models.huggingface.co/bert/t5-spiece.model from cache at /home/amadeus/.cache/torch/transformers/68f1b8dbca4350743bb54b8c4169fd38cbabaad564f85a9239337a8d0342af9f.9995af32582a1a7062cb3173c118cb7b4636fa03feb967340f20fc37406f021f\n"
     ]
    },
    {
     "name": "stdout",
     "output_type": "stream",
     "text": [
      "2\n",
      "2\n",
      "4\n"
     ]
    }
   ],
   "source": [
    "tokenizer = T5Tokenizer.from_pretrained('t5-base')\n",
    "for label in labels:\n",
    "  print(len(tokenizer.encode(label)))"
   ]
  },
  {
   "cell_type": "code",
   "execution_count": 13,
   "metadata": {},
   "outputs": [],
   "source": [
    "class FactDataset(Dataset):\n",
    "  def __init__(self, tokenizer,data,  max_len=512):\n",
    "    \n",
    "    self.data = data\n",
    "    self.max_len = max_len\n",
    "    self.tokenizer = tokenizer\n",
    "    self.inputs = []\n",
    "    self.targets = []\n",
    "\n",
    "    self._build()\n",
    "  \n",
    "  def __len__(self):\n",
    "    return len(self.inputs)\n",
    "  \n",
    "  def __getitem__(self, index):\n",
    "    source_ids = self.inputs[index][\"input_ids\"].squeeze()\n",
    "    target_ids = self.targets[index][\"input_ids\"].squeeze()\n",
    "\n",
    "    src_mask    = self.inputs[index][\"attention_mask\"].squeeze()  # might need to squeeze\n",
    "    target_mask = self.targets[index][\"attention_mask\"].squeeze()  # might need to squeeze\n",
    "\n",
    "    return {\"source_ids\": source_ids, \"source_mask\": src_mask, \"target_ids\": target_ids, \"target_mask\": target_mask}\n",
    "  \n",
    "  def _build(self):\n",
    "    for simple in self.data:\n",
    "      if len(simple) == 3:\n",
    "        input_, target = \"Claim:\"+ simple[0] + \"Evidence:\" + simple[1], labels[simple[2]]    \n",
    "      else:\n",
    "        input_, target = \"Claim:\"+ simple[0] + \"Evidence:\" + simple[1], labels[0]    \n",
    "\n",
    "      input_ = input_ + ' </s>'\n",
    "      target = target + \" </s>\"\n",
    "\n",
    "       # tokenize inputs\n",
    "      tokenized_inputs = self.tokenizer.batch_encode_plus(\n",
    "          [input_], max_length=self.max_len, pad_to_max_length=True, return_tensors=\"pt\"\n",
    "      )\n",
    "       # tokenize targets\n",
    "      tokenized_targets = self.tokenizer.batch_encode_plus(\n",
    "          [target], max_length=2, pad_to_max_length=True, return_tensors=\"pt\"\n",
    "      )\n",
    "\n",
    "      self.inputs.append(tokenized_inputs)\n",
    "      self.targets.append(tokenized_targets)"
   ]
  },
  {
   "cell_type": "code",
   "execution_count": 14,
   "metadata": {},
   "outputs": [
    {
     "name": "stdout",
     "output_type": "stream",
     "text": [
      "1062\n",
      "117\n"
     ]
    }
   ],
   "source": [
    "train_dataset =FactDataset(tokenizer,train_examples, 512)\n",
    "print(len(train_dataset))\n",
    "valid_dataset = FactDataset(tokenizer,valid_examples, 512)\n",
    "print(len(valid_dataset))"
   ]
  },
  {
   "cell_type": "code",
   "execution_count": 15,
   "metadata": {},
   "outputs": [
    {
     "name": "stdout",
     "output_type": "stream",
     "text": [
      "NonInfo\n"
     ]
    }
   ],
   "source": [
    "data = train_dataset[5]\n",
    "print(tokenizer.decode(data['target_ids']))"
   ]
  },
  {
   "cell_type": "code",
   "execution_count": 16,
   "metadata": {},
   "outputs": [
    {
     "name": "stdout",
     "output_type": "stream",
     "text": [
      "Claim:Patients in stable partnerships progress from HIV to death at the same rate as patients not in partnerships.Evidence:In an analysis stratified by previous antiretroviral therapy and clinical stage when starting HAART (US Centers for Disease Control and Prevention group A, B, or C), the adjusted hazard ratio for progression to AIDS or death was 0.79 (95% confidence interval 0.63 to 0.98) for participants with a stable partnership compared with those without.\n",
      "Ref\n"
     ]
    }
   ],
   "source": [
    "data = train_dataset[40]\n",
    "print(tokenizer.decode(data['source_ids']))\n",
    "print(tokenizer.decode(data['target_ids']))"
   ]
  },
  {
   "cell_type": "code",
   "execution_count": 17,
   "metadata": {},
   "outputs": [
    {
     "name": "stdout",
     "output_type": "stream",
     "text": [
      "{'data_dir': 'fact_data', 'output_dir': '/data/t5_fact', 'model_name_or_path': 't5-base', 'tokenizer_name_or_path': 't5-base', 'max_seq_length': 512, 'learning_rate': 0.0003, 'weight_decay': 0.0, 'adam_epsilon': 1e-08, 'warmup_steps': 0, 'train_batch_size': 8, 'eval_batch_size': 8, 'num_train_epochs': 20, 'gradient_accumulation_steps': 16, 'n_gpu': 1, 'early_stop_callback': False, 'fp_16': False, 'opt_level': 'O1', 'max_grad_norm': 1.0, 'seed': 42}\n"
     ]
    }
   ],
   "source": [
    "args_dict.update({'data_dir': 'fact_data', 'output_dir': '/data/t5_fact', 'num_train_epochs':20})\n",
    "args = argparse.Namespace(**args_dict)\n",
    "print(args_dict)"
   ]
  },
  {
   "cell_type": "code",
   "execution_count": 18,
   "metadata": {},
   "outputs": [],
   "source": [
    "!mkdir -p t5_fact"
   ]
  },
  {
   "cell_type": "code",
   "execution_count": 19,
   "metadata": {},
   "outputs": [
    {
     "name": "stderr",
     "output_type": "stream",
     "text": [
      "/home/amadeus/.local/lib/python3.8/site-packages/pytorch_lightning/utilities/distributed.py:23: UserWarning: Checkpoint directory /data/t5_fact exists and is not empty with save_top_k != 0.All files in this directory will be deleted when a checkpoint is saved!\n",
      "  warnings.warn(*args, **kwargs)\n"
     ]
    }
   ],
   "source": [
    "checkpoint_callback = pl.callbacks.ModelCheckpoint(\n",
    "    filepath=args.output_dir, prefix=\"checkpoint\", monitor=\"val_loss\", mode=\"min\", save_top_k=5\n",
    ")\n",
    "\n",
    "train_params = dict(\n",
    "    accumulate_grad_batches=args.gradient_accumulation_steps,\n",
    "    gpus=args.n_gpu,\n",
    "    max_epochs=args.num_train_epochs,\n",
    "    early_stop_callback=False,\n",
    "    precision= 16 if args.fp_16 else 32,\n",
    "    amp_level=args.opt_level,\n",
    "    gradient_clip_val=args.max_grad_norm,\n",
    "    checkpoint_callback=checkpoint_callback,\n",
    "    callbacks=[LoggingCallback()],\n",
    ")"
   ]
  },
  {
   "cell_type": "code",
   "execution_count": 20,
   "metadata": {},
   "outputs": [],
   "source": [
    "def get_dataset(tokenizer, type_path, args):\n",
    "  if type_path == 'train':\n",
    "    return FactDataset(tokenizer,train_examples, max_len=args.max_seq_length)\n",
    "  elif type_path =='val':\n",
    "    return FactDataset(tokenizer,valid_examples, max_len=args.max_seq_length)"
   ]
  },
  {
   "cell_type": "code",
   "execution_count": 21,
   "metadata": {},
   "outputs": [
    {
     "name": "stderr",
     "output_type": "stream",
     "text": [
      "INFO:transformers.configuration_utils:loading configuration file https://s3.amazonaws.com/models.huggingface.co/bert/t5-base-config.json from cache at /home/amadeus/.cache/torch/transformers/40578967d1f029acb6162b36db9d8b4307063e885990ccd297c2c5be1cf1b3d7.2995d650f5eba18c8baa4146e210d32d56165e90d374281741fc78b872cd6c9b\n",
      "INFO:transformers.configuration_utils:Model config T5Config {\n",
      "  \"architectures\": [\n",
      "    \"T5WithLMHeadModel\"\n",
      "  ],\n",
      "  \"d_ff\": 3072,\n",
      "  \"d_kv\": 64,\n",
      "  \"d_model\": 768,\n",
      "  \"decoder_start_token_id\": 0,\n",
      "  \"dropout_rate\": 0.1,\n",
      "  \"eos_token_id\": 1,\n",
      "  \"initializer_factor\": 1.0,\n",
      "  \"is_encoder_decoder\": true,\n",
      "  \"layer_norm_epsilon\": 1e-06,\n",
      "  \"model_type\": \"t5\",\n",
      "  \"n_positions\": 512,\n",
      "  \"num_heads\": 12,\n",
      "  \"num_layers\": 12,\n",
      "  \"output_past\": true,\n",
      "  \"pad_token_id\": 0,\n",
      "  \"relative_attention_num_buckets\": 32,\n",
      "  \"task_specific_params\": {\n",
      "    \"summarization\": {\n",
      "      \"early_stopping\": true,\n",
      "      \"length_penalty\": 2.0,\n",
      "      \"max_length\": 200,\n",
      "      \"min_length\": 30,\n",
      "      \"no_repeat_ngram_size\": 3,\n",
      "      \"num_beams\": 4,\n",
      "      \"prefix\": \"summarize: \"\n",
      "    },\n",
      "    \"translation_en_to_de\": {\n",
      "      \"early_stopping\": true,\n",
      "      \"max_length\": 300,\n",
      "      \"num_beams\": 4,\n",
      "      \"prefix\": \"translate English to German: \"\n",
      "    },\n",
      "    \"translation_en_to_fr\": {\n",
      "      \"early_stopping\": true,\n",
      "      \"max_length\": 300,\n",
      "      \"num_beams\": 4,\n",
      "      \"prefix\": \"translate English to French: \"\n",
      "    },\n",
      "    \"translation_en_to_ro\": {\n",
      "      \"early_stopping\": true,\n",
      "      \"max_length\": 300,\n",
      "      \"num_beams\": 4,\n",
      "      \"prefix\": \"translate English to Romanian: \"\n",
      "    }\n",
      "  },\n",
      "  \"vocab_size\": 32128\n",
      "}\n",
      "\n",
      "INFO:transformers.modeling_utils:loading weights file https://cdn.huggingface.co/t5-base-pytorch_model.bin from cache at /home/amadeus/.cache/torch/transformers/f6f2fde9fa7611f4eff74620de9cbe734e7a717b5b143bd283cae4c2d6022990.54f906ff53bd09195cfc183a29cadc81b7705f07fcdb796d24163cb632b6bdfa\n",
      "INFO:transformers.modeling_utils:Weights of T5ForConditionalGeneration not initialized from pretrained model: ['encoder.embed_tokens.weight', 'decoder.embed_tokens.weight', 'lm_head.weight']\n",
      "INFO:transformers.tokenization_utils:loading file https://s3.amazonaws.com/models.huggingface.co/bert/t5-spiece.model from cache at /home/amadeus/.cache/torch/transformers/68f1b8dbca4350743bb54b8c4169fd38cbabaad564f85a9239337a8d0342af9f.9995af32582a1a7062cb3173c118cb7b4636fa03feb967340f20fc37406f021f\n"
     ]
    }
   ],
   "source": [
    "model = T5FineTuner(args)"
   ]
  },
  {
   "cell_type": "code",
   "execution_count": 22,
   "metadata": {},
   "outputs": [
    {
     "name": "stderr",
     "output_type": "stream",
     "text": [
      "INFO:lightning:GPU available: True, used: True\n",
      "INFO:lightning:CUDA_VISIBLE_DEVICES: [0]\n",
      "INFO:lightning:\n",
      "    | Name                                                                  | Type                       | Params\n",
      "-----------------------------------------------------------------------------------------------------------------\n",
      "0   | model                                                                 | T5ForConditionalGeneration | 222 M \n",
      "1   | model.shared                                                          | Embedding                  | 24 M  \n",
      "2   | model.encoder                                                         | T5Stack                    | 109 M \n",
      "3   | model.encoder.block                                                   | ModuleList                 | 84 M  \n",
      "4   | model.encoder.block.0                                                 | T5Block                    | 7 M   \n",
      "5   | model.encoder.block.0.layer                                           | ModuleList                 | 7 M   \n",
      "6   | model.encoder.block.0.layer.0                                         | T5LayerSelfAttention       | 2 M   \n",
      "7   | model.encoder.block.0.layer.0.SelfAttention                           | T5Attention                | 2 M   \n",
      "8   | model.encoder.block.0.layer.0.SelfAttention.q                         | Linear                     | 589 K \n",
      "9   | model.encoder.block.0.layer.0.SelfAttention.k                         | Linear                     | 589 K \n",
      "10  | model.encoder.block.0.layer.0.SelfAttention.v                         | Linear                     | 589 K \n",
      "11  | model.encoder.block.0.layer.0.SelfAttention.o                         | Linear                     | 589 K \n",
      "12  | model.encoder.block.0.layer.0.SelfAttention.relative_attention_bias   | Embedding                  | 384   \n",
      "13  | model.encoder.block.0.layer.0.layer_norm                              | T5LayerNorm                | 768   \n",
      "14  | model.encoder.block.0.layer.0.dropout                                 | Dropout                    | 0     \n",
      "15  | model.encoder.block.0.layer.1                                         | T5LayerFF                  | 4 M   \n",
      "16  | model.encoder.block.0.layer.1.DenseReluDense                          | T5DenseReluDense           | 4 M   \n",
      "17  | model.encoder.block.0.layer.1.DenseReluDense.wi                       | Linear                     | 2 M   \n",
      "18  | model.encoder.block.0.layer.1.DenseReluDense.wo                       | Linear                     | 2 M   \n",
      "19  | model.encoder.block.0.layer.1.DenseReluDense.dropout                  | Dropout                    | 0     \n",
      "20  | model.encoder.block.0.layer.1.layer_norm                              | T5LayerNorm                | 768   \n",
      "21  | model.encoder.block.0.layer.1.dropout                                 | Dropout                    | 0     \n",
      "22  | model.encoder.block.1                                                 | T5Block                    | 7 M   \n",
      "23  | model.encoder.block.1.layer                                           | ModuleList                 | 7 M   \n",
      "24  | model.encoder.block.1.layer.0                                         | T5LayerSelfAttention       | 2 M   \n",
      "25  | model.encoder.block.1.layer.0.SelfAttention                           | T5Attention                | 2 M   \n",
      "26  | model.encoder.block.1.layer.0.SelfAttention.q                         | Linear                     | 589 K \n",
      "27  | model.encoder.block.1.layer.0.SelfAttention.k                         | Linear                     | 589 K \n",
      "28  | model.encoder.block.1.layer.0.SelfAttention.v                         | Linear                     | 589 K \n",
      "29  | model.encoder.block.1.layer.0.SelfAttention.o                         | Linear                     | 589 K \n",
      "30  | model.encoder.block.1.layer.0.layer_norm                              | T5LayerNorm                | 768   \n",
      "31  | model.encoder.block.1.layer.0.dropout                                 | Dropout                    | 0     \n",
      "32  | model.encoder.block.1.layer.1                                         | T5LayerFF                  | 4 M   \n",
      "33  | model.encoder.block.1.layer.1.DenseReluDense                          | T5DenseReluDense           | 4 M   \n",
      "34  | model.encoder.block.1.layer.1.DenseReluDense.wi                       | Linear                     | 2 M   \n",
      "35  | model.encoder.block.1.layer.1.DenseReluDense.wo                       | Linear                     | 2 M   \n",
      "36  | model.encoder.block.1.layer.1.DenseReluDense.dropout                  | Dropout                    | 0     \n",
      "37  | model.encoder.block.1.layer.1.layer_norm                              | T5LayerNorm                | 768   \n",
      "38  | model.encoder.block.1.layer.1.dropout                                 | Dropout                    | 0     \n",
      "39  | model.encoder.block.2                                                 | T5Block                    | 7 M   \n",
      "40  | model.encoder.block.2.layer                                           | ModuleList                 | 7 M   \n",
      "41  | model.encoder.block.2.layer.0                                         | T5LayerSelfAttention       | 2 M   \n",
      "42  | model.encoder.block.2.layer.0.SelfAttention                           | T5Attention                | 2 M   \n",
      "43  | model.encoder.block.2.layer.0.SelfAttention.q                         | Linear                     | 589 K \n",
      "44  | model.encoder.block.2.layer.0.SelfAttention.k                         | Linear                     | 589 K \n",
      "45  | model.encoder.block.2.layer.0.SelfAttention.v                         | Linear                     | 589 K \n",
      "46  | model.encoder.block.2.layer.0.SelfAttention.o                         | Linear                     | 589 K \n",
      "47  | model.encoder.block.2.layer.0.layer_norm                              | T5LayerNorm                | 768   \n",
      "48  | model.encoder.block.2.layer.0.dropout                                 | Dropout                    | 0     \n",
      "49  | model.encoder.block.2.layer.1                                         | T5LayerFF                  | 4 M   \n",
      "50  | model.encoder.block.2.layer.1.DenseReluDense                          | T5DenseReluDense           | 4 M   \n",
      "51  | model.encoder.block.2.layer.1.DenseReluDense.wi                       | Linear                     | 2 M   \n",
      "52  | model.encoder.block.2.layer.1.DenseReluDense.wo                       | Linear                     | 2 M   \n",
      "53  | model.encoder.block.2.layer.1.DenseReluDense.dropout                  | Dropout                    | 0     \n",
      "54  | model.encoder.block.2.layer.1.layer_norm                              | T5LayerNorm                | 768   \n",
      "55  | model.encoder.block.2.layer.1.dropout                                 | Dropout                    | 0     \n",
      "56  | model.encoder.block.3                                                 | T5Block                    | 7 M   \n",
      "57  | model.encoder.block.3.layer                                           | ModuleList                 | 7 M   \n",
      "58  | model.encoder.block.3.layer.0                                         | T5LayerSelfAttention       | 2 M   \n",
      "59  | model.encoder.block.3.layer.0.SelfAttention                           | T5Attention                | 2 M   \n",
      "60  | model.encoder.block.3.layer.0.SelfAttention.q                         | Linear                     | 589 K \n",
      "61  | model.encoder.block.3.layer.0.SelfAttention.k                         | Linear                     | 589 K \n",
      "62  | model.encoder.block.3.layer.0.SelfAttention.v                         | Linear                     | 589 K \n",
      "63  | model.encoder.block.3.layer.0.SelfAttention.o                         | Linear                     | 589 K \n",
      "64  | model.encoder.block.3.layer.0.layer_norm                              | T5LayerNorm                | 768   \n",
      "65  | model.encoder.block.3.layer.0.dropout                                 | Dropout                    | 0     \n",
      "66  | model.encoder.block.3.layer.1                                         | T5LayerFF                  | 4 M   \n",
      "67  | model.encoder.block.3.layer.1.DenseReluDense                          | T5DenseReluDense           | 4 M   \n",
      "68  | model.encoder.block.3.layer.1.DenseReluDense.wi                       | Linear                     | 2 M   \n",
      "69  | model.encoder.block.3.layer.1.DenseReluDense.wo                       | Linear                     | 2 M   \n",
      "70  | model.encoder.block.3.layer.1.DenseReluDense.dropout                  | Dropout                    | 0     \n",
      "71  | model.encoder.block.3.layer.1.layer_norm                              | T5LayerNorm                | 768   \n",
      "72  | model.encoder.block.3.layer.1.dropout                                 | Dropout                    | 0     \n",
      "73  | model.encoder.block.4                                                 | T5Block                    | 7 M   \n",
      "74  | model.encoder.block.4.layer                                           | ModuleList                 | 7 M   \n",
      "75  | model.encoder.block.4.layer.0                                         | T5LayerSelfAttention       | 2 M   \n",
      "76  | model.encoder.block.4.layer.0.SelfAttention                           | T5Attention                | 2 M   \n",
      "77  | model.encoder.block.4.layer.0.SelfAttention.q                         | Linear                     | 589 K \n",
      "78  | model.encoder.block.4.layer.0.SelfAttention.k                         | Linear                     | 589 K \n",
      "79  | model.encoder.block.4.layer.0.SelfAttention.v                         | Linear                     | 589 K \n",
      "80  | model.encoder.block.4.layer.0.SelfAttention.o                         | Linear                     | 589 K \n",
      "81  | model.encoder.block.4.layer.0.layer_norm                              | T5LayerNorm                | 768   \n",
      "82  | model.encoder.block.4.layer.0.dropout                                 | Dropout                    | 0     \n",
      "83  | model.encoder.block.4.layer.1                                         | T5LayerFF                  | 4 M   \n",
      "84  | model.encoder.block.4.layer.1.DenseReluDense                          | T5DenseReluDense           | 4 M   \n",
      "85  | model.encoder.block.4.layer.1.DenseReluDense.wi                       | Linear                     | 2 M   \n",
      "86  | model.encoder.block.4.layer.1.DenseReluDense.wo                       | Linear                     | 2 M   \n",
      "87  | model.encoder.block.4.layer.1.DenseReluDense.dropout                  | Dropout                    | 0     \n",
      "88  | model.encoder.block.4.layer.1.layer_norm                              | T5LayerNorm                | 768   \n",
      "89  | model.encoder.block.4.layer.1.dropout                                 | Dropout                    | 0     \n",
      "90  | model.encoder.block.5                                                 | T5Block                    | 7 M   \n",
      "91  | model.encoder.block.5.layer                                           | ModuleList                 | 7 M   \n",
      "92  | model.encoder.block.5.layer.0                                         | T5LayerSelfAttention       | 2 M   \n",
      "93  | model.encoder.block.5.layer.0.SelfAttention                           | T5Attention                | 2 M   \n",
      "94  | model.encoder.block.5.layer.0.SelfAttention.q                         | Linear                     | 589 K \n",
      "95  | model.encoder.block.5.layer.0.SelfAttention.k                         | Linear                     | 589 K \n",
      "96  | model.encoder.block.5.layer.0.SelfAttention.v                         | Linear                     | 589 K \n",
      "97  | model.encoder.block.5.layer.0.SelfAttention.o                         | Linear                     | 589 K \n",
      "98  | model.encoder.block.5.layer.0.layer_norm                              | T5LayerNorm                | 768   \n",
      "99  | model.encoder.block.5.layer.0.dropout                                 | Dropout                    | 0     \n",
      "100 | model.encoder.block.5.layer.1                                         | T5LayerFF                  | 4 M   \n",
      "101 | model.encoder.block.5.layer.1.DenseReluDense                          | T5DenseReluDense           | 4 M   \n",
      "102 | model.encoder.block.5.layer.1.DenseReluDense.wi                       | Linear                     | 2 M   \n",
      "103 | model.encoder.block.5.layer.1.DenseReluDense.wo                       | Linear                     | 2 M   \n",
      "104 | model.encoder.block.5.layer.1.DenseReluDense.dropout                  | Dropout                    | 0     \n",
      "105 | model.encoder.block.5.layer.1.layer_norm                              | T5LayerNorm                | 768   \n",
      "106 | model.encoder.block.5.layer.1.dropout                                 | Dropout                    | 0     \n",
      "107 | model.encoder.block.6                                                 | T5Block                    | 7 M   \n",
      "108 | model.encoder.block.6.layer                                           | ModuleList                 | 7 M   \n",
      "109 | model.encoder.block.6.layer.0                                         | T5LayerSelfAttention       | 2 M   \n",
      "110 | model.encoder.block.6.layer.0.SelfAttention                           | T5Attention                | 2 M   \n",
      "111 | model.encoder.block.6.layer.0.SelfAttention.q                         | Linear                     | 589 K \n",
      "112 | model.encoder.block.6.layer.0.SelfAttention.k                         | Linear                     | 589 K \n",
      "113 | model.encoder.block.6.layer.0.SelfAttention.v                         | Linear                     | 589 K \n",
      "114 | model.encoder.block.6.layer.0.SelfAttention.o                         | Linear                     | 589 K \n",
      "115 | model.encoder.block.6.layer.0.layer_norm                              | T5LayerNorm                | 768   \n",
      "116 | model.encoder.block.6.layer.0.dropout                                 | Dropout                    | 0     \n",
      "117 | model.encoder.block.6.layer.1                                         | T5LayerFF                  | 4 M   \n",
      "118 | model.encoder.block.6.layer.1.DenseReluDense                          | T5DenseReluDense           | 4 M   \n",
      "119 | model.encoder.block.6.layer.1.DenseReluDense.wi                       | Linear                     | 2 M   \n",
      "120 | model.encoder.block.6.layer.1.DenseReluDense.wo                       | Linear                     | 2 M   \n",
      "121 | model.encoder.block.6.layer.1.DenseReluDense.dropout                  | Dropout                    | 0     \n",
      "122 | model.encoder.block.6.layer.1.layer_norm                              | T5LayerNorm                | 768   \n",
      "123 | model.encoder.block.6.layer.1.dropout                                 | Dropout                    | 0     \n",
      "124 | model.encoder.block.7                                                 | T5Block                    | 7 M   \n",
      "125 | model.encoder.block.7.layer                                           | ModuleList                 | 7 M   \n",
      "126 | model.encoder.block.7.layer.0                                         | T5LayerSelfAttention       | 2 M   \n",
      "127 | model.encoder.block.7.layer.0.SelfAttention                           | T5Attention                | 2 M   \n",
      "128 | model.encoder.block.7.layer.0.SelfAttention.q                         | Linear                     | 589 K \n",
      "129 | model.encoder.block.7.layer.0.SelfAttention.k                         | Linear                     | 589 K \n",
      "130 | model.encoder.block.7.layer.0.SelfAttention.v                         | Linear                     | 589 K \n",
      "131 | model.encoder.block.7.layer.0.SelfAttention.o                         | Linear                     | 589 K \n",
      "132 | model.encoder.block.7.layer.0.layer_norm                              | T5LayerNorm                | 768   \n",
      "133 | model.encoder.block.7.layer.0.dropout                                 | Dropout                    | 0     \n",
      "134 | model.encoder.block.7.layer.1                                         | T5LayerFF                  | 4 M   \n",
      "135 | model.encoder.block.7.layer.1.DenseReluDense                          | T5DenseReluDense           | 4 M   \n",
      "136 | model.encoder.block.7.layer.1.DenseReluDense.wi                       | Linear                     | 2 M   \n",
      "137 | model.encoder.block.7.layer.1.DenseReluDense.wo                       | Linear                     | 2 M   \n",
      "138 | model.encoder.block.7.layer.1.DenseReluDense.dropout                  | Dropout                    | 0     \n",
      "139 | model.encoder.block.7.layer.1.layer_norm                              | T5LayerNorm                | 768   \n",
      "140 | model.encoder.block.7.layer.1.dropout                                 | Dropout                    | 0     \n",
      "141 | model.encoder.block.8                                                 | T5Block                    | 7 M   \n",
      "142 | model.encoder.block.8.layer                                           | ModuleList                 | 7 M   \n",
      "143 | model.encoder.block.8.layer.0                                         | T5LayerSelfAttention       | 2 M   \n",
      "144 | model.encoder.block.8.layer.0.SelfAttention                           | T5Attention                | 2 M   \n",
      "145 | model.encoder.block.8.layer.0.SelfAttention.q                         | Linear                     | 589 K \n",
      "146 | model.encoder.block.8.layer.0.SelfAttention.k                         | Linear                     | 589 K \n",
      "147 | model.encoder.block.8.layer.0.SelfAttention.v                         | Linear                     | 589 K \n",
      "148 | model.encoder.block.8.layer.0.SelfAttention.o                         | Linear                     | 589 K \n",
      "149 | model.encoder.block.8.layer.0.layer_norm                              | T5LayerNorm                | 768   \n",
      "150 | model.encoder.block.8.layer.0.dropout                                 | Dropout                    | 0     \n",
      "151 | model.encoder.block.8.layer.1                                         | T5LayerFF                  | 4 M   \n",
      "152 | model.encoder.block.8.layer.1.DenseReluDense                          | T5DenseReluDense           | 4 M   \n",
      "153 | model.encoder.block.8.layer.1.DenseReluDense.wi                       | Linear                     | 2 M   \n",
      "154 | model.encoder.block.8.layer.1.DenseReluDense.wo                       | Linear                     | 2 M   \n",
      "155 | model.encoder.block.8.layer.1.DenseReluDense.dropout                  | Dropout                    | 0     \n",
      "156 | model.encoder.block.8.layer.1.layer_norm                              | T5LayerNorm                | 768   \n",
      "157 | model.encoder.block.8.layer.1.dropout                                 | Dropout                    | 0     \n",
      "158 | model.encoder.block.9                                                 | T5Block                    | 7 M   \n",
      "159 | model.encoder.block.9.layer                                           | ModuleList                 | 7 M   \n",
      "160 | model.encoder.block.9.layer.0                                         | T5LayerSelfAttention       | 2 M   \n",
      "161 | model.encoder.block.9.layer.0.SelfAttention                           | T5Attention                | 2 M   \n",
      "162 | model.encoder.block.9.layer.0.SelfAttention.q                         | Linear                     | 589 K \n",
      "163 | model.encoder.block.9.layer.0.SelfAttention.k                         | Linear                     | 589 K \n",
      "164 | model.encoder.block.9.layer.0.SelfAttention.v                         | Linear                     | 589 K \n",
      "165 | model.encoder.block.9.layer.0.SelfAttention.o                         | Linear                     | 589 K \n",
      "166 | model.encoder.block.9.layer.0.layer_norm                              | T5LayerNorm                | 768   \n",
      "167 | model.encoder.block.9.layer.0.dropout                                 | Dropout                    | 0     \n",
      "168 | model.encoder.block.9.layer.1                                         | T5LayerFF                  | 4 M   \n",
      "169 | model.encoder.block.9.layer.1.DenseReluDense                          | T5DenseReluDense           | 4 M   \n",
      "170 | model.encoder.block.9.layer.1.DenseReluDense.wi                       | Linear                     | 2 M   \n",
      "171 | model.encoder.block.9.layer.1.DenseReluDense.wo                       | Linear                     | 2 M   \n",
      "172 | model.encoder.block.9.layer.1.DenseReluDense.dropout                  | Dropout                    | 0     \n",
      "173 | model.encoder.block.9.layer.1.layer_norm                              | T5LayerNorm                | 768   \n",
      "174 | model.encoder.block.9.layer.1.dropout                                 | Dropout                    | 0     \n",
      "175 | model.encoder.block.10                                                | T5Block                    | 7 M   \n",
      "176 | model.encoder.block.10.layer                                          | ModuleList                 | 7 M   \n",
      "177 | model.encoder.block.10.layer.0                                        | T5LayerSelfAttention       | 2 M   \n",
      "178 | model.encoder.block.10.layer.0.SelfAttention                          | T5Attention                | 2 M   \n",
      "179 | model.encoder.block.10.layer.0.SelfAttention.q                        | Linear                     | 589 K \n",
      "180 | model.encoder.block.10.layer.0.SelfAttention.k                        | Linear                     | 589 K \n",
      "181 | model.encoder.block.10.layer.0.SelfAttention.v                        | Linear                     | 589 K \n",
      "182 | model.encoder.block.10.layer.0.SelfAttention.o                        | Linear                     | 589 K \n",
      "183 | model.encoder.block.10.layer.0.layer_norm                             | T5LayerNorm                | 768   \n",
      "184 | model.encoder.block.10.layer.0.dropout                                | Dropout                    | 0     \n",
      "185 | model.encoder.block.10.layer.1                                        | T5LayerFF                  | 4 M   \n",
      "186 | model.encoder.block.10.layer.1.DenseReluDense                         | T5DenseReluDense           | 4 M   \n",
      "187 | model.encoder.block.10.layer.1.DenseReluDense.wi                      | Linear                     | 2 M   \n",
      "188 | model.encoder.block.10.layer.1.DenseReluDense.wo                      | Linear                     | 2 M   \n",
      "189 | model.encoder.block.10.layer.1.DenseReluDense.dropout                 | Dropout                    | 0     \n",
      "190 | model.encoder.block.10.layer.1.layer_norm                             | T5LayerNorm                | 768   \n",
      "191 | model.encoder.block.10.layer.1.dropout                                | Dropout                    | 0     \n",
      "192 | model.encoder.block.11                                                | T5Block                    | 7 M   \n",
      "193 | model.encoder.block.11.layer                                          | ModuleList                 | 7 M   \n",
      "194 | model.encoder.block.11.layer.0                                        | T5LayerSelfAttention       | 2 M   \n",
      "195 | model.encoder.block.11.layer.0.SelfAttention                          | T5Attention                | 2 M   \n",
      "196 | model.encoder.block.11.layer.0.SelfAttention.q                        | Linear                     | 589 K \n",
      "197 | model.encoder.block.11.layer.0.SelfAttention.k                        | Linear                     | 589 K \n",
      "198 | model.encoder.block.11.layer.0.SelfAttention.v                        | Linear                     | 589 K \n",
      "199 | model.encoder.block.11.layer.0.SelfAttention.o                        | Linear                     | 589 K \n",
      "200 | model.encoder.block.11.layer.0.layer_norm                             | T5LayerNorm                | 768   \n",
      "201 | model.encoder.block.11.layer.0.dropout                                | Dropout                    | 0     \n",
      "202 | model.encoder.block.11.layer.1                                        | T5LayerFF                  | 4 M   \n",
      "203 | model.encoder.block.11.layer.1.DenseReluDense                         | T5DenseReluDense           | 4 M   \n",
      "204 | model.encoder.block.11.layer.1.DenseReluDense.wi                      | Linear                     | 2 M   \n",
      "205 | model.encoder.block.11.layer.1.DenseReluDense.wo                      | Linear                     | 2 M   \n",
      "206 | model.encoder.block.11.layer.1.DenseReluDense.dropout                 | Dropout                    | 0     \n",
      "207 | model.encoder.block.11.layer.1.layer_norm                             | T5LayerNorm                | 768   \n",
      "208 | model.encoder.block.11.layer.1.dropout                                | Dropout                    | 0     \n",
      "209 | model.encoder.final_layer_norm                                        | T5LayerNorm                | 768   \n",
      "210 | model.encoder.dropout                                                 | Dropout                    | 0     \n",
      "211 | model.decoder                                                         | T5Stack                    | 137 M \n",
      "212 | model.decoder.block                                                   | ModuleList                 | 113 M \n",
      "213 | model.decoder.block.0                                                 | T5Block                    | 9 M   \n",
      "214 | model.decoder.block.0.layer                                           | ModuleList                 | 9 M   \n",
      "215 | model.decoder.block.0.layer.0                                         | T5LayerSelfAttention       | 2 M   \n",
      "216 | model.decoder.block.0.layer.0.SelfAttention                           | T5Attention                | 2 M   \n",
      "217 | model.decoder.block.0.layer.0.SelfAttention.q                         | Linear                     | 589 K \n",
      "218 | model.decoder.block.0.layer.0.SelfAttention.k                         | Linear                     | 589 K \n",
      "219 | model.decoder.block.0.layer.0.SelfAttention.v                         | Linear                     | 589 K \n",
      "220 | model.decoder.block.0.layer.0.SelfAttention.o                         | Linear                     | 589 K \n",
      "221 | model.decoder.block.0.layer.0.SelfAttention.relative_attention_bias   | Embedding                  | 384   \n",
      "222 | model.decoder.block.0.layer.0.layer_norm                              | T5LayerNorm                | 768   \n",
      "223 | model.decoder.block.0.layer.0.dropout                                 | Dropout                    | 0     \n",
      "224 | model.decoder.block.0.layer.1                                         | T5LayerCrossAttention      | 2 M   \n",
      "225 | model.decoder.block.0.layer.1.EncDecAttention                         | T5Attention                | 2 M   \n",
      "226 | model.decoder.block.0.layer.1.EncDecAttention.q                       | Linear                     | 589 K \n",
      "227 | model.decoder.block.0.layer.1.EncDecAttention.k                       | Linear                     | 589 K \n",
      "228 | model.decoder.block.0.layer.1.EncDecAttention.v                       | Linear                     | 589 K \n",
      "229 | model.decoder.block.0.layer.1.EncDecAttention.o                       | Linear                     | 589 K \n",
      "230 | model.decoder.block.0.layer.1.EncDecAttention.relative_attention_bias | Embedding                  | 384   \n",
      "231 | model.decoder.block.0.layer.1.layer_norm                              | T5LayerNorm                | 768   \n",
      "232 | model.decoder.block.0.layer.1.dropout                                 | Dropout                    | 0     \n",
      "233 | model.decoder.block.0.layer.2                                         | T5LayerFF                  | 4 M   \n",
      "234 | model.decoder.block.0.layer.2.DenseReluDense                          | T5DenseReluDense           | 4 M   \n",
      "235 | model.decoder.block.0.layer.2.DenseReluDense.wi                       | Linear                     | 2 M   \n",
      "236 | model.decoder.block.0.layer.2.DenseReluDense.wo                       | Linear                     | 2 M   \n",
      "237 | model.decoder.block.0.layer.2.DenseReluDense.dropout                  | Dropout                    | 0     \n",
      "238 | model.decoder.block.0.layer.2.layer_norm                              | T5LayerNorm                | 768   \n",
      "239 | model.decoder.block.0.layer.2.dropout                                 | Dropout                    | 0     \n",
      "240 | model.decoder.block.1                                                 | T5Block                    | 9 M   \n",
      "241 | model.decoder.block.1.layer                                           | ModuleList                 | 9 M   \n",
      "242 | model.decoder.block.1.layer.0                                         | T5LayerSelfAttention       | 2 M   \n",
      "243 | model.decoder.block.1.layer.0.SelfAttention                           | T5Attention                | 2 M   \n",
      "244 | model.decoder.block.1.layer.0.SelfAttention.q                         | Linear                     | 589 K \n",
      "245 | model.decoder.block.1.layer.0.SelfAttention.k                         | Linear                     | 589 K \n",
      "246 | model.decoder.block.1.layer.0.SelfAttention.v                         | Linear                     | 589 K \n",
      "247 | model.decoder.block.1.layer.0.SelfAttention.o                         | Linear                     | 589 K \n",
      "248 | model.decoder.block.1.layer.0.layer_norm                              | T5LayerNorm                | 768   \n",
      "249 | model.decoder.block.1.layer.0.dropout                                 | Dropout                    | 0     \n",
      "250 | model.decoder.block.1.layer.1                                         | T5LayerCrossAttention      | 2 M   \n",
      "251 | model.decoder.block.1.layer.1.EncDecAttention                         | T5Attention                | 2 M   \n",
      "252 | model.decoder.block.1.layer.1.EncDecAttention.q                       | Linear                     | 589 K \n",
      "253 | model.decoder.block.1.layer.1.EncDecAttention.k                       | Linear                     | 589 K \n",
      "254 | model.decoder.block.1.layer.1.EncDecAttention.v                       | Linear                     | 589 K \n",
      "255 | model.decoder.block.1.layer.1.EncDecAttention.o                       | Linear                     | 589 K \n",
      "256 | model.decoder.block.1.layer.1.layer_norm                              | T5LayerNorm                | 768   \n",
      "257 | model.decoder.block.1.layer.1.dropout                                 | Dropout                    | 0     \n",
      "258 | model.decoder.block.1.layer.2                                         | T5LayerFF                  | 4 M   \n",
      "259 | model.decoder.block.1.layer.2.DenseReluDense                          | T5DenseReluDense           | 4 M   \n",
      "260 | model.decoder.block.1.layer.2.DenseReluDense.wi                       | Linear                     | 2 M   \n",
      "261 | model.decoder.block.1.layer.2.DenseReluDense.wo                       | Linear                     | 2 M   \n",
      "262 | model.decoder.block.1.layer.2.DenseReluDense.dropout                  | Dropout                    | 0     \n",
      "263 | model.decoder.block.1.layer.2.layer_norm                              | T5LayerNorm                | 768   \n",
      "264 | model.decoder.block.1.layer.2.dropout                                 | Dropout                    | 0     \n",
      "265 | model.decoder.block.2                                                 | T5Block                    | 9 M   \n",
      "266 | model.decoder.block.2.layer                                           | ModuleList                 | 9 M   \n",
      "267 | model.decoder.block.2.layer.0                                         | T5LayerSelfAttention       | 2 M   \n",
      "268 | model.decoder.block.2.layer.0.SelfAttention                           | T5Attention                | 2 M   \n",
      "269 | model.decoder.block.2.layer.0.SelfAttention.q                         | Linear                     | 589 K \n",
      "270 | model.decoder.block.2.layer.0.SelfAttention.k                         | Linear                     | 589 K \n",
      "271 | model.decoder.block.2.layer.0.SelfAttention.v                         | Linear                     | 589 K \n",
      "272 | model.decoder.block.2.layer.0.SelfAttention.o                         | Linear                     | 589 K \n",
      "273 | model.decoder.block.2.layer.0.layer_norm                              | T5LayerNorm                | 768   \n",
      "274 | model.decoder.block.2.layer.0.dropout                                 | Dropout                    | 0     \n",
      "275 | model.decoder.block.2.layer.1                                         | T5LayerCrossAttention      | 2 M   \n",
      "276 | model.decoder.block.2.layer.1.EncDecAttention                         | T5Attention                | 2 M   \n",
      "277 | model.decoder.block.2.layer.1.EncDecAttention.q                       | Linear                     | 589 K \n",
      "278 | model.decoder.block.2.layer.1.EncDecAttention.k                       | Linear                     | 589 K \n",
      "279 | model.decoder.block.2.layer.1.EncDecAttention.v                       | Linear                     | 589 K \n",
      "280 | model.decoder.block.2.layer.1.EncDecAttention.o                       | Linear                     | 589 K \n",
      "281 | model.decoder.block.2.layer.1.layer_norm                              | T5LayerNorm                | 768   \n",
      "282 | model.decoder.block.2.layer.1.dropout                                 | Dropout                    | 0     \n",
      "283 | model.decoder.block.2.layer.2                                         | T5LayerFF                  | 4 M   \n",
      "284 | model.decoder.block.2.layer.2.DenseReluDense                          | T5DenseReluDense           | 4 M   \n",
      "285 | model.decoder.block.2.layer.2.DenseReluDense.wi                       | Linear                     | 2 M   \n",
      "286 | model.decoder.block.2.layer.2.DenseReluDense.wo                       | Linear                     | 2 M   \n",
      "287 | model.decoder.block.2.layer.2.DenseReluDense.dropout                  | Dropout                    | 0     \n",
      "288 | model.decoder.block.2.layer.2.layer_norm                              | T5LayerNorm                | 768   \n",
      "289 | model.decoder.block.2.layer.2.dropout                                 | Dropout                    | 0     \n",
      "290 | model.decoder.block.3                                                 | T5Block                    | 9 M   \n",
      "291 | model.decoder.block.3.layer                                           | ModuleList                 | 9 M   \n",
      "292 | model.decoder.block.3.layer.0                                         | T5LayerSelfAttention       | 2 M   \n",
      "293 | model.decoder.block.3.layer.0.SelfAttention                           | T5Attention                | 2 M   \n",
      "294 | model.decoder.block.3.layer.0.SelfAttention.q                         | Linear                     | 589 K \n",
      "295 | model.decoder.block.3.layer.0.SelfAttention.k                         | Linear                     | 589 K \n",
      "296 | model.decoder.block.3.layer.0.SelfAttention.v                         | Linear                     | 589 K \n",
      "297 | model.decoder.block.3.layer.0.SelfAttention.o                         | Linear                     | 589 K \n",
      "298 | model.decoder.block.3.layer.0.layer_norm                              | T5LayerNorm                | 768   \n",
      "299 | model.decoder.block.3.layer.0.dropout                                 | Dropout                    | 0     \n",
      "300 | model.decoder.block.3.layer.1                                         | T5LayerCrossAttention      | 2 M   \n",
      "301 | model.decoder.block.3.layer.1.EncDecAttention                         | T5Attention                | 2 M   \n",
      "302 | model.decoder.block.3.layer.1.EncDecAttention.q                       | Linear                     | 589 K \n",
      "303 | model.decoder.block.3.layer.1.EncDecAttention.k                       | Linear                     | 589 K \n",
      "304 | model.decoder.block.3.layer.1.EncDecAttention.v                       | Linear                     | 589 K \n",
      "305 | model.decoder.block.3.layer.1.EncDecAttention.o                       | Linear                     | 589 K \n",
      "306 | model.decoder.block.3.layer.1.layer_norm                              | T5LayerNorm                | 768   \n",
      "307 | model.decoder.block.3.layer.1.dropout                                 | Dropout                    | 0     \n",
      "308 | model.decoder.block.3.layer.2                                         | T5LayerFF                  | 4 M   \n",
      "309 | model.decoder.block.3.layer.2.DenseReluDense                          | T5DenseReluDense           | 4 M   \n",
      "310 | model.decoder.block.3.layer.2.DenseReluDense.wi                       | Linear                     | 2 M   \n",
      "311 | model.decoder.block.3.layer.2.DenseReluDense.wo                       | Linear                     | 2 M   \n",
      "312 | model.decoder.block.3.layer.2.DenseReluDense.dropout                  | Dropout                    | 0     \n",
      "313 | model.decoder.block.3.layer.2.layer_norm                              | T5LayerNorm                | 768   \n",
      "314 | model.decoder.block.3.layer.2.dropout                                 | Dropout                    | 0     \n",
      "315 | model.decoder.block.4                                                 | T5Block                    | 9 M   \n",
      "316 | model.decoder.block.4.layer                                           | ModuleList                 | 9 M   \n",
      "317 | model.decoder.block.4.layer.0                                         | T5LayerSelfAttention       | 2 M   \n",
      "318 | model.decoder.block.4.layer.0.SelfAttention                           | T5Attention                | 2 M   \n",
      "319 | model.decoder.block.4.layer.0.SelfAttention.q                         | Linear                     | 589 K \n",
      "320 | model.decoder.block.4.layer.0.SelfAttention.k                         | Linear                     | 589 K \n",
      "321 | model.decoder.block.4.layer.0.SelfAttention.v                         | Linear                     | 589 K \n",
      "322 | model.decoder.block.4.layer.0.SelfAttention.o                         | Linear                     | 589 K \n",
      "323 | model.decoder.block.4.layer.0.layer_norm                              | T5LayerNorm                | 768   \n",
      "324 | model.decoder.block.4.layer.0.dropout                                 | Dropout                    | 0     \n",
      "325 | model.decoder.block.4.layer.1                                         | T5LayerCrossAttention      | 2 M   \n",
      "326 | model.decoder.block.4.layer.1.EncDecAttention                         | T5Attention                | 2 M   \n",
      "327 | model.decoder.block.4.layer.1.EncDecAttention.q                       | Linear                     | 589 K \n",
      "328 | model.decoder.block.4.layer.1.EncDecAttention.k                       | Linear                     | 589 K \n",
      "329 | model.decoder.block.4.layer.1.EncDecAttention.v                       | Linear                     | 589 K \n",
      "330 | model.decoder.block.4.layer.1.EncDecAttention.o                       | Linear                     | 589 K \n",
      "331 | model.decoder.block.4.layer.1.layer_norm                              | T5LayerNorm                | 768   \n",
      "332 | model.decoder.block.4.layer.1.dropout                                 | Dropout                    | 0     \n",
      "333 | model.decoder.block.4.layer.2                                         | T5LayerFF                  | 4 M   \n",
      "334 | model.decoder.block.4.layer.2.DenseReluDense                          | T5DenseReluDense           | 4 M   \n",
      "335 | model.decoder.block.4.layer.2.DenseReluDense.wi                       | Linear                     | 2 M   \n",
      "336 | model.decoder.block.4.layer.2.DenseReluDense.wo                       | Linear                     | 2 M   \n",
      "337 | model.decoder.block.4.layer.2.DenseReluDense.dropout                  | Dropout                    | 0     \n",
      "338 | model.decoder.block.4.layer.2.layer_norm                              | T5LayerNorm                | 768   \n",
      "339 | model.decoder.block.4.layer.2.dropout                                 | Dropout                    | 0     \n",
      "340 | model.decoder.block.5                                                 | T5Block                    | 9 M   \n",
      "341 | model.decoder.block.5.layer                                           | ModuleList                 | 9 M   \n",
      "342 | model.decoder.block.5.layer.0                                         | T5LayerSelfAttention       | 2 M   \n",
      "343 | model.decoder.block.5.layer.0.SelfAttention                           | T5Attention                | 2 M   \n",
      "344 | model.decoder.block.5.layer.0.SelfAttention.q                         | Linear                     | 589 K \n",
      "345 | model.decoder.block.5.layer.0.SelfAttention.k                         | Linear                     | 589 K \n",
      "346 | model.decoder.block.5.layer.0.SelfAttention.v                         | Linear                     | 589 K \n",
      "347 | model.decoder.block.5.layer.0.SelfAttention.o                         | Linear                     | 589 K \n",
      "348 | model.decoder.block.5.layer.0.layer_norm                              | T5LayerNorm                | 768   \n",
      "349 | model.decoder.block.5.layer.0.dropout                                 | Dropout                    | 0     \n",
      "350 | model.decoder.block.5.layer.1                                         | T5LayerCrossAttention      | 2 M   \n",
      "351 | model.decoder.block.5.layer.1.EncDecAttention                         | T5Attention                | 2 M   \n",
      "352 | model.decoder.block.5.layer.1.EncDecAttention.q                       | Linear                     | 589 K \n",
      "353 | model.decoder.block.5.layer.1.EncDecAttention.k                       | Linear                     | 589 K \n",
      "354 | model.decoder.block.5.layer.1.EncDecAttention.v                       | Linear                     | 589 K \n",
      "355 | model.decoder.block.5.layer.1.EncDecAttention.o                       | Linear                     | 589 K \n",
      "356 | model.decoder.block.5.layer.1.layer_norm                              | T5LayerNorm                | 768   \n",
      "357 | model.decoder.block.5.layer.1.dropout                                 | Dropout                    | 0     \n",
      "358 | model.decoder.block.5.layer.2                                         | T5LayerFF                  | 4 M   \n",
      "359 | model.decoder.block.5.layer.2.DenseReluDense                          | T5DenseReluDense           | 4 M   \n",
      "360 | model.decoder.block.5.layer.2.DenseReluDense.wi                       | Linear                     | 2 M   \n",
      "361 | model.decoder.block.5.layer.2.DenseReluDense.wo                       | Linear                     | 2 M   \n",
      "362 | model.decoder.block.5.layer.2.DenseReluDense.dropout                  | Dropout                    | 0     \n",
      "363 | model.decoder.block.5.layer.2.layer_norm                              | T5LayerNorm                | 768   \n",
      "364 | model.decoder.block.5.layer.2.dropout                                 | Dropout                    | 0     \n",
      "365 | model.decoder.block.6                                                 | T5Block                    | 9 M   \n",
      "366 | model.decoder.block.6.layer                                           | ModuleList                 | 9 M   \n",
      "367 | model.decoder.block.6.layer.0                                         | T5LayerSelfAttention       | 2 M   \n",
      "368 | model.decoder.block.6.layer.0.SelfAttention                           | T5Attention                | 2 M   \n",
      "369 | model.decoder.block.6.layer.0.SelfAttention.q                         | Linear                     | 589 K \n",
      "370 | model.decoder.block.6.layer.0.SelfAttention.k                         | Linear                     | 589 K \n",
      "371 | model.decoder.block.6.layer.0.SelfAttention.v                         | Linear                     | 589 K \n",
      "372 | model.decoder.block.6.layer.0.SelfAttention.o                         | Linear                     | 589 K \n",
      "373 | model.decoder.block.6.layer.0.layer_norm                              | T5LayerNorm                | 768   \n",
      "374 | model.decoder.block.6.layer.0.dropout                                 | Dropout                    | 0     \n",
      "375 | model.decoder.block.6.layer.1                                         | T5LayerCrossAttention      | 2 M   \n",
      "376 | model.decoder.block.6.layer.1.EncDecAttention                         | T5Attention                | 2 M   \n",
      "377 | model.decoder.block.6.layer.1.EncDecAttention.q                       | Linear                     | 589 K \n",
      "378 | model.decoder.block.6.layer.1.EncDecAttention.k                       | Linear                     | 589 K \n",
      "379 | model.decoder.block.6.layer.1.EncDecAttention.v                       | Linear                     | 589 K \n",
      "380 | model.decoder.block.6.layer.1.EncDecAttention.o                       | Linear                     | 589 K \n",
      "381 | model.decoder.block.6.layer.1.layer_norm                              | T5LayerNorm                | 768   \n",
      "382 | model.decoder.block.6.layer.1.dropout                                 | Dropout                    | 0     \n",
      "383 | model.decoder.block.6.layer.2                                         | T5LayerFF                  | 4 M   \n",
      "384 | model.decoder.block.6.layer.2.DenseReluDense                          | T5DenseReluDense           | 4 M   \n",
      "385 | model.decoder.block.6.layer.2.DenseReluDense.wi                       | Linear                     | 2 M   \n",
      "386 | model.decoder.block.6.layer.2.DenseReluDense.wo                       | Linear                     | 2 M   \n",
      "387 | model.decoder.block.6.layer.2.DenseReluDense.dropout                  | Dropout                    | 0     \n",
      "388 | model.decoder.block.6.layer.2.layer_norm                              | T5LayerNorm                | 768   \n",
      "389 | model.decoder.block.6.layer.2.dropout                                 | Dropout                    | 0     \n",
      "390 | model.decoder.block.7                                                 | T5Block                    | 9 M   \n",
      "391 | model.decoder.block.7.layer                                           | ModuleList                 | 9 M   \n",
      "392 | model.decoder.block.7.layer.0                                         | T5LayerSelfAttention       | 2 M   \n",
      "393 | model.decoder.block.7.layer.0.SelfAttention                           | T5Attention                | 2 M   \n",
      "394 | model.decoder.block.7.layer.0.SelfAttention.q                         | Linear                     | 589 K \n",
      "395 | model.decoder.block.7.layer.0.SelfAttention.k                         | Linear                     | 589 K \n",
      "396 | model.decoder.block.7.layer.0.SelfAttention.v                         | Linear                     | 589 K \n",
      "397 | model.decoder.block.7.layer.0.SelfAttention.o                         | Linear                     | 589 K \n",
      "398 | model.decoder.block.7.layer.0.layer_norm                              | T5LayerNorm                | 768   \n",
      "399 | model.decoder.block.7.layer.0.dropout                                 | Dropout                    | 0     \n",
      "400 | model.decoder.block.7.layer.1                                         | T5LayerCrossAttention      | 2 M   \n",
      "401 | model.decoder.block.7.layer.1.EncDecAttention                         | T5Attention                | 2 M   \n",
      "402 | model.decoder.block.7.layer.1.EncDecAttention.q                       | Linear                     | 589 K \n",
      "403 | model.decoder.block.7.layer.1.EncDecAttention.k                       | Linear                     | 589 K \n",
      "404 | model.decoder.block.7.layer.1.EncDecAttention.v                       | Linear                     | 589 K \n",
      "405 | model.decoder.block.7.layer.1.EncDecAttention.o                       | Linear                     | 589 K \n",
      "406 | model.decoder.block.7.layer.1.layer_norm                              | T5LayerNorm                | 768   \n",
      "407 | model.decoder.block.7.layer.1.dropout                                 | Dropout                    | 0     \n",
      "408 | model.decoder.block.7.layer.2                                         | T5LayerFF                  | 4 M   \n",
      "409 | model.decoder.block.7.layer.2.DenseReluDense                          | T5DenseReluDense           | 4 M   \n",
      "410 | model.decoder.block.7.layer.2.DenseReluDense.wi                       | Linear                     | 2 M   \n",
      "411 | model.decoder.block.7.layer.2.DenseReluDense.wo                       | Linear                     | 2 M   \n",
      "412 | model.decoder.block.7.layer.2.DenseReluDense.dropout                  | Dropout                    | 0     \n",
      "413 | model.decoder.block.7.layer.2.layer_norm                              | T5LayerNorm                | 768   \n",
      "414 | model.decoder.block.7.layer.2.dropout                                 | Dropout                    | 0     \n",
      "415 | model.decoder.block.8                                                 | T5Block                    | 9 M   \n",
      "416 | model.decoder.block.8.layer                                           | ModuleList                 | 9 M   \n",
      "417 | model.decoder.block.8.layer.0                                         | T5LayerSelfAttention       | 2 M   \n",
      "418 | model.decoder.block.8.layer.0.SelfAttention                           | T5Attention                | 2 M   \n",
      "419 | model.decoder.block.8.layer.0.SelfAttention.q                         | Linear                     | 589 K \n",
      "420 | model.decoder.block.8.layer.0.SelfAttention.k                         | Linear                     | 589 K \n",
      "421 | model.decoder.block.8.layer.0.SelfAttention.v                         | Linear                     | 589 K \n",
      "422 | model.decoder.block.8.layer.0.SelfAttention.o                         | Linear                     | 589 K \n",
      "423 | model.decoder.block.8.layer.0.layer_norm                              | T5LayerNorm                | 768   \n",
      "424 | model.decoder.block.8.layer.0.dropout                                 | Dropout                    | 0     \n",
      "425 | model.decoder.block.8.layer.1                                         | T5LayerCrossAttention      | 2 M   \n",
      "426 | model.decoder.block.8.layer.1.EncDecAttention                         | T5Attention                | 2 M   \n",
      "427 | model.decoder.block.8.layer.1.EncDecAttention.q                       | Linear                     | 589 K \n",
      "428 | model.decoder.block.8.layer.1.EncDecAttention.k                       | Linear                     | 589 K \n",
      "429 | model.decoder.block.8.layer.1.EncDecAttention.v                       | Linear                     | 589 K \n",
      "430 | model.decoder.block.8.layer.1.EncDecAttention.o                       | Linear                     | 589 K \n",
      "431 | model.decoder.block.8.layer.1.layer_norm                              | T5LayerNorm                | 768   \n",
      "432 | model.decoder.block.8.layer.1.dropout                                 | Dropout                    | 0     \n",
      "433 | model.decoder.block.8.layer.2                                         | T5LayerFF                  | 4 M   \n",
      "434 | model.decoder.block.8.layer.2.DenseReluDense                          | T5DenseReluDense           | 4 M   \n",
      "435 | model.decoder.block.8.layer.2.DenseReluDense.wi                       | Linear                     | 2 M   \n",
      "436 | model.decoder.block.8.layer.2.DenseReluDense.wo                       | Linear                     | 2 M   \n",
      "437 | model.decoder.block.8.layer.2.DenseReluDense.dropout                  | Dropout                    | 0     \n",
      "438 | model.decoder.block.8.layer.2.layer_norm                              | T5LayerNorm                | 768   \n",
      "439 | model.decoder.block.8.layer.2.dropout                                 | Dropout                    | 0     \n",
      "440 | model.decoder.block.9                                                 | T5Block                    | 9 M   \n",
      "441 | model.decoder.block.9.layer                                           | ModuleList                 | 9 M   \n",
      "442 | model.decoder.block.9.layer.0                                         | T5LayerSelfAttention       | 2 M   \n",
      "443 | model.decoder.block.9.layer.0.SelfAttention                           | T5Attention                | 2 M   \n",
      "444 | model.decoder.block.9.layer.0.SelfAttention.q                         | Linear                     | 589 K \n",
      "445 | model.decoder.block.9.layer.0.SelfAttention.k                         | Linear                     | 589 K \n",
      "446 | model.decoder.block.9.layer.0.SelfAttention.v                         | Linear                     | 589 K \n",
      "447 | model.decoder.block.9.layer.0.SelfAttention.o                         | Linear                     | 589 K \n",
      "448 | model.decoder.block.9.layer.0.layer_norm                              | T5LayerNorm                | 768   \n",
      "449 | model.decoder.block.9.layer.0.dropout                                 | Dropout                    | 0     \n",
      "450 | model.decoder.block.9.layer.1                                         | T5LayerCrossAttention      | 2 M   \n",
      "451 | model.decoder.block.9.layer.1.EncDecAttention                         | T5Attention                | 2 M   \n",
      "452 | model.decoder.block.9.layer.1.EncDecAttention.q                       | Linear                     | 589 K \n",
      "453 | model.decoder.block.9.layer.1.EncDecAttention.k                       | Linear                     | 589 K \n",
      "454 | model.decoder.block.9.layer.1.EncDecAttention.v                       | Linear                     | 589 K \n",
      "455 | model.decoder.block.9.layer.1.EncDecAttention.o                       | Linear                     | 589 K \n",
      "456 | model.decoder.block.9.layer.1.layer_norm                              | T5LayerNorm                | 768   \n",
      "457 | model.decoder.block.9.layer.1.dropout                                 | Dropout                    | 0     \n",
      "458 | model.decoder.block.9.layer.2                                         | T5LayerFF                  | 4 M   \n",
      "459 | model.decoder.block.9.layer.2.DenseReluDense                          | T5DenseReluDense           | 4 M   \n",
      "460 | model.decoder.block.9.layer.2.DenseReluDense.wi                       | Linear                     | 2 M   \n",
      "461 | model.decoder.block.9.layer.2.DenseReluDense.wo                       | Linear                     | 2 M   \n",
      "462 | model.decoder.block.9.layer.2.DenseReluDense.dropout                  | Dropout                    | 0     \n",
      "463 | model.decoder.block.9.layer.2.layer_norm                              | T5LayerNorm                | 768   \n",
      "464 | model.decoder.block.9.layer.2.dropout                                 | Dropout                    | 0     \n",
      "465 | model.decoder.block.10                                                | T5Block                    | 9 M   \n",
      "466 | model.decoder.block.10.layer                                          | ModuleList                 | 9 M   \n",
      "467 | model.decoder.block.10.layer.0                                        | T5LayerSelfAttention       | 2 M   \n",
      "468 | model.decoder.block.10.layer.0.SelfAttention                          | T5Attention                | 2 M   \n",
      "469 | model.decoder.block.10.layer.0.SelfAttention.q                        | Linear                     | 589 K \n",
      "470 | model.decoder.block.10.layer.0.SelfAttention.k                        | Linear                     | 589 K \n",
      "471 | model.decoder.block.10.layer.0.SelfAttention.v                        | Linear                     | 589 K \n",
      "472 | model.decoder.block.10.layer.0.SelfAttention.o                        | Linear                     | 589 K \n",
      "473 | model.decoder.block.10.layer.0.layer_norm                             | T5LayerNorm                | 768   \n",
      "474 | model.decoder.block.10.layer.0.dropout                                | Dropout                    | 0     \n",
      "475 | model.decoder.block.10.layer.1                                        | T5LayerCrossAttention      | 2 M   \n",
      "476 | model.decoder.block.10.layer.1.EncDecAttention                        | T5Attention                | 2 M   \n",
      "477 | model.decoder.block.10.layer.1.EncDecAttention.q                      | Linear                     | 589 K \n",
      "478 | model.decoder.block.10.layer.1.EncDecAttention.k                      | Linear                     | 589 K \n",
      "479 | model.decoder.block.10.layer.1.EncDecAttention.v                      | Linear                     | 589 K \n",
      "480 | model.decoder.block.10.layer.1.EncDecAttention.o                      | Linear                     | 589 K \n",
      "481 | model.decoder.block.10.layer.1.layer_norm                             | T5LayerNorm                | 768   \n",
      "482 | model.decoder.block.10.layer.1.dropout                                | Dropout                    | 0     \n",
      "483 | model.decoder.block.10.layer.2                                        | T5LayerFF                  | 4 M   \n",
      "484 | model.decoder.block.10.layer.2.DenseReluDense                         | T5DenseReluDense           | 4 M   \n",
      "485 | model.decoder.block.10.layer.2.DenseReluDense.wi                      | Linear                     | 2 M   \n",
      "486 | model.decoder.block.10.layer.2.DenseReluDense.wo                      | Linear                     | 2 M   \n",
      "487 | model.decoder.block.10.layer.2.DenseReluDense.dropout                 | Dropout                    | 0     \n",
      "488 | model.decoder.block.10.layer.2.layer_norm                             | T5LayerNorm                | 768   \n",
      "489 | model.decoder.block.10.layer.2.dropout                                | Dropout                    | 0     \n",
      "490 | model.decoder.block.11                                                | T5Block                    | 9 M   \n",
      "491 | model.decoder.block.11.layer                                          | ModuleList                 | 9 M   \n",
      "492 | model.decoder.block.11.layer.0                                        | T5LayerSelfAttention       | 2 M   \n",
      "493 | model.decoder.block.11.layer.0.SelfAttention                          | T5Attention                | 2 M   \n",
      "494 | model.decoder.block.11.layer.0.SelfAttention.q                        | Linear                     | 589 K \n",
      "495 | model.decoder.block.11.layer.0.SelfAttention.k                        | Linear                     | 589 K \n",
      "496 | model.decoder.block.11.layer.0.SelfAttention.v                        | Linear                     | 589 K \n",
      "497 | model.decoder.block.11.layer.0.SelfAttention.o                        | Linear                     | 589 K \n",
      "498 | model.decoder.block.11.layer.0.layer_norm                             | T5LayerNorm                | 768   \n",
      "499 | model.decoder.block.11.layer.0.dropout                                | Dropout                    | 0     \n",
      "500 | model.decoder.block.11.layer.1                                        | T5LayerCrossAttention      | 2 M   \n",
      "501 | model.decoder.block.11.layer.1.EncDecAttention                        | T5Attention                | 2 M   \n",
      "502 | model.decoder.block.11.layer.1.EncDecAttention.q                      | Linear                     | 589 K \n",
      "503 | model.decoder.block.11.layer.1.EncDecAttention.k                      | Linear                     | 589 K \n",
      "504 | model.decoder.block.11.layer.1.EncDecAttention.v                      | Linear                     | 589 K \n",
      "505 | model.decoder.block.11.layer.1.EncDecAttention.o                      | Linear                     | 589 K \n",
      "506 | model.decoder.block.11.layer.1.layer_norm                             | T5LayerNorm                | 768   \n",
      "507 | model.decoder.block.11.layer.1.dropout                                | Dropout                    | 0     \n",
      "508 | model.decoder.block.11.layer.2                                        | T5LayerFF                  | 4 M   \n",
      "509 | model.decoder.block.11.layer.2.DenseReluDense                         | T5DenseReluDense           | 4 M   \n",
      "510 | model.decoder.block.11.layer.2.DenseReluDense.wi                      | Linear                     | 2 M   \n",
      "511 | model.decoder.block.11.layer.2.DenseReluDense.wo                      | Linear                     | 2 M   \n",
      "512 | model.decoder.block.11.layer.2.DenseReluDense.dropout                 | Dropout                    | 0     \n",
      "513 | model.decoder.block.11.layer.2.layer_norm                             | T5LayerNorm                | 768   \n",
      "514 | model.decoder.block.11.layer.2.dropout                                | Dropout                    | 0     \n",
      "515 | model.decoder.final_layer_norm                                        | T5LayerNorm                | 768   \n",
      "516 | model.decoder.dropout                                                 | Dropout                    | 0     \n",
      "517 | model.lm_head                                                         | Linear                     | 24 M  \n"
     ]
    },
    {
     "data": {
      "application/vnd.jupyter.widget-view+json": {
       "model_id": "",
       "version_major": 2,
       "version_minor": 0
      },
      "text/plain": [
       "Validation sanity check: 0it [00:00, ?it/s]"
      ]
     },
     "metadata": {},
     "output_type": "display_data"
    },
    {
     "data": {
      "application/vnd.jupyter.widget-view+json": {
       "model_id": "67ceabb58dd34d7eb0f394bb5c21ec4f",
       "version_major": 2,
       "version_minor": 0
      },
      "text/plain": [
       "Training: 0it [00:00, ?it/s]"
      ]
     },
     "metadata": {},
     "output_type": "display_data"
    },
    {
     "name": "stderr",
     "output_type": "stream",
     "text": [
      "/home/amadeus/.local/lib/python3.8/site-packages/transformers/optimization.py:155: UserWarning: This overload of add_ is deprecated:\n",
      "\tadd_(Number alpha, Tensor other)\n",
      "Consider using one of the following signatures instead:\n",
      "\tadd_(Tensor other, *, Number alpha) (Triggered internally at  ../torch/csrc/utils/python_arg_parser.cpp:1055.)\n",
      "  exp_avg.mul_(beta1).add_(1.0 - beta1, grad)\n"
     ]
    },
    {
     "data": {
      "application/vnd.jupyter.widget-view+json": {
       "model_id": "",
       "version_major": 2,
       "version_minor": 0
      },
      "text/plain": [
       "Validating: 0it [00:00, ?it/s]"
      ]
     },
     "metadata": {},
     "output_type": "display_data"
    },
    {
     "name": "stderr",
     "output_type": "stream",
     "text": [
      "INFO:__main__:***** Validation results *****\n",
      "INFO:__main__:avg_val_loss = tensor(0.5617, device='cuda:0')\n",
      "\n",
      "INFO:__main__:loss = tensor(0.7463, device='cuda:0')\n",
      "\n",
      "INFO:__main__:train_loss = tensor(0.7463, device='cuda:0')\n",
      "\n",
      "INFO:__main__:val_loss = tensor(0.5617, device='cuda:0')\n",
      "\n"
     ]
    },
    {
     "data": {
      "application/vnd.jupyter.widget-view+json": {
       "model_id": "",
       "version_major": 2,
       "version_minor": 0
      },
      "text/plain": [
       "Validating: 0it [00:00, ?it/s]"
      ]
     },
     "metadata": {},
     "output_type": "display_data"
    },
    {
     "name": "stderr",
     "output_type": "stream",
     "text": [
      "INFO:__main__:***** Validation results *****\n",
      "INFO:__main__:avg_train_loss = tensor(3.9527, device='cuda:0')\n",
      "\n",
      "INFO:__main__:avg_val_loss = tensor(0.6248, device='cuda:0')\n",
      "\n",
      "INFO:__main__:epoch = 0\n",
      "\n",
      "INFO:__main__:loss = tensor(0.5119, device='cuda:0')\n",
      "\n",
      "INFO:__main__:train_loss = tensor(0.5119, device='cuda:0')\n",
      "\n",
      "INFO:__main__:val_loss = tensor(0.6248, device='cuda:0')\n",
      "\n"
     ]
    },
    {
     "data": {
      "application/vnd.jupyter.widget-view+json": {
       "model_id": "",
       "version_major": 2,
       "version_minor": 0
      },
      "text/plain": [
       "Validating: 0it [00:00, ?it/s]"
      ]
     },
     "metadata": {},
     "output_type": "display_data"
    },
    {
     "name": "stderr",
     "output_type": "stream",
     "text": [
      "INFO:__main__:***** Validation results *****\n",
      "INFO:__main__:avg_train_loss = tensor(0.6278, device='cuda:0')\n",
      "\n",
      "INFO:__main__:avg_val_loss = tensor(0.5155, device='cuda:0')\n",
      "\n",
      "INFO:__main__:epoch = 1\n",
      "\n",
      "INFO:__main__:loss = tensor(0.3193, device='cuda:0')\n",
      "\n",
      "INFO:__main__:train_loss = tensor(0.3193, device='cuda:0')\n",
      "\n",
      "INFO:__main__:val_loss = tensor(0.5155, device='cuda:0')\n",
      "\n"
     ]
    },
    {
     "data": {
      "application/vnd.jupyter.widget-view+json": {
       "model_id": "",
       "version_major": 2,
       "version_minor": 0
      },
      "text/plain": [
       "Validating: 0it [00:00, ?it/s]"
      ]
     },
     "metadata": {},
     "output_type": "display_data"
    },
    {
     "name": "stderr",
     "output_type": "stream",
     "text": [
      "INFO:__main__:***** Validation results *****\n",
      "INFO:__main__:avg_train_loss = tensor(0.4874, device='cuda:0')\n",
      "\n",
      "INFO:__main__:avg_val_loss = tensor(0.3151, device='cuda:0')\n",
      "\n",
      "INFO:__main__:epoch = 2\n",
      "\n",
      "INFO:__main__:loss = tensor(0.4576, device='cuda:0')\n",
      "\n",
      "INFO:__main__:train_loss = tensor(0.4576, device='cuda:0')\n",
      "\n",
      "INFO:__main__:val_loss = tensor(0.3151, device='cuda:0')\n",
      "\n"
     ]
    },
    {
     "data": {
      "application/vnd.jupyter.widget-view+json": {
       "model_id": "",
       "version_major": 2,
       "version_minor": 0
      },
      "text/plain": [
       "Validating: 0it [00:00, ?it/s]"
      ]
     },
     "metadata": {},
     "output_type": "display_data"
    },
    {
     "name": "stderr",
     "output_type": "stream",
     "text": [
      "INFO:__main__:***** Validation results *****\n",
      "INFO:__main__:avg_train_loss = tensor(0.3706, device='cuda:0')\n",
      "\n",
      "INFO:__main__:avg_val_loss = tensor(0.3272, device='cuda:0')\n",
      "\n",
      "INFO:__main__:epoch = 3\n",
      "\n",
      "INFO:__main__:loss = tensor(0.1274, device='cuda:0')\n",
      "\n",
      "INFO:__main__:train_loss = tensor(0.1274, device='cuda:0')\n",
      "\n",
      "INFO:__main__:val_loss = tensor(0.3272, device='cuda:0')\n",
      "\n"
     ]
    },
    {
     "data": {
      "application/vnd.jupyter.widget-view+json": {
       "model_id": "",
       "version_major": 2,
       "version_minor": 0
      },
      "text/plain": [
       "Validating: 0it [00:00, ?it/s]"
      ]
     },
     "metadata": {},
     "output_type": "display_data"
    },
    {
     "name": "stderr",
     "output_type": "stream",
     "text": [
      "INFO:__main__:***** Validation results *****\n",
      "INFO:__main__:avg_train_loss = tensor(0.2430, device='cuda:0')\n",
      "\n",
      "INFO:__main__:avg_val_loss = tensor(0.3266, device='cuda:0')\n",
      "\n",
      "INFO:__main__:epoch = 4\n",
      "\n",
      "INFO:__main__:loss = tensor(0.1571, device='cuda:0')\n",
      "\n",
      "INFO:__main__:train_loss = tensor(0.1571, device='cuda:0')\n",
      "\n",
      "INFO:__main__:val_loss = tensor(0.3266, device='cuda:0')\n",
      "\n"
     ]
    },
    {
     "data": {
      "application/vnd.jupyter.widget-view+json": {
       "model_id": "",
       "version_major": 2,
       "version_minor": 0
      },
      "text/plain": [
       "Validating: 0it [00:00, ?it/s]"
      ]
     },
     "metadata": {},
     "output_type": "display_data"
    },
    {
     "name": "stderr",
     "output_type": "stream",
     "text": [
      "INFO:__main__:***** Validation results *****\n",
      "INFO:__main__:avg_train_loss = tensor(0.1778, device='cuda:0')\n",
      "\n",
      "INFO:__main__:avg_val_loss = tensor(0.2946, device='cuda:0')\n",
      "\n",
      "INFO:__main__:epoch = 5\n",
      "\n",
      "INFO:__main__:loss = tensor(0.1626, device='cuda:0')\n",
      "\n",
      "INFO:__main__:train_loss = tensor(0.1626, device='cuda:0')\n",
      "\n",
      "INFO:__main__:val_loss = tensor(0.2946, device='cuda:0')\n",
      "\n"
     ]
    },
    {
     "data": {
      "application/vnd.jupyter.widget-view+json": {
       "model_id": "",
       "version_major": 2,
       "version_minor": 0
      },
      "text/plain": [
       "Validating: 0it [00:00, ?it/s]"
      ]
     },
     "metadata": {},
     "output_type": "display_data"
    },
    {
     "name": "stderr",
     "output_type": "stream",
     "text": [
      "INFO:__main__:***** Validation results *****\n",
      "INFO:__main__:avg_train_loss = tensor(0.1221, device='cuda:0')\n",
      "\n",
      "INFO:__main__:avg_val_loss = tensor(0.3000, device='cuda:0')\n",
      "\n",
      "INFO:__main__:epoch = 6\n",
      "\n",
      "INFO:__main__:loss = tensor(0.0517, device='cuda:0')\n",
      "\n",
      "INFO:__main__:train_loss = tensor(0.0517, device='cuda:0')\n",
      "\n",
      "INFO:__main__:val_loss = tensor(0.3000, device='cuda:0')\n",
      "\n"
     ]
    },
    {
     "data": {
      "application/vnd.jupyter.widget-view+json": {
       "model_id": "",
       "version_major": 2,
       "version_minor": 0
      },
      "text/plain": [
       "Validating: 0it [00:00, ?it/s]"
      ]
     },
     "metadata": {},
     "output_type": "display_data"
    },
    {
     "name": "stderr",
     "output_type": "stream",
     "text": [
      "INFO:__main__:***** Validation results *****\n",
      "INFO:__main__:avg_train_loss = tensor(0.0715, device='cuda:0')\n",
      "\n",
      "INFO:__main__:avg_val_loss = tensor(0.3806, device='cuda:0')\n",
      "\n",
      "INFO:__main__:epoch = 7\n",
      "\n",
      "INFO:__main__:loss = tensor(0.1504, device='cuda:0')\n",
      "\n",
      "INFO:__main__:train_loss = tensor(0.1504, device='cuda:0')\n",
      "\n",
      "INFO:__main__:val_loss = tensor(0.3806, device='cuda:0')\n",
      "\n"
     ]
    },
    {
     "data": {
      "application/vnd.jupyter.widget-view+json": {
       "model_id": "",
       "version_major": 2,
       "version_minor": 0
      },
      "text/plain": [
       "Validating: 0it [00:00, ?it/s]"
      ]
     },
     "metadata": {},
     "output_type": "display_data"
    },
    {
     "name": "stderr",
     "output_type": "stream",
     "text": [
      "INFO:__main__:***** Validation results *****\n",
      "INFO:__main__:avg_train_loss = tensor(0.0438, device='cuda:0')\n",
      "\n",
      "INFO:__main__:avg_val_loss = tensor(0.3768, device='cuda:0')\n",
      "\n",
      "INFO:__main__:epoch = 8\n",
      "\n",
      "INFO:__main__:loss = tensor(0.0018, device='cuda:0')\n",
      "\n",
      "INFO:__main__:train_loss = tensor(0.0018, device='cuda:0')\n",
      "\n",
      "INFO:__main__:val_loss = tensor(0.3768, device='cuda:0')\n",
      "\n"
     ]
    },
    {
     "data": {
      "application/vnd.jupyter.widget-view+json": {
       "model_id": "",
       "version_major": 2,
       "version_minor": 0
      },
      "text/plain": [
       "Validating: 0it [00:00, ?it/s]"
      ]
     },
     "metadata": {},
     "output_type": "display_data"
    },
    {
     "name": "stderr",
     "output_type": "stream",
     "text": [
      "INFO:__main__:***** Validation results *****\n",
      "INFO:__main__:avg_train_loss = tensor(0.0380, device='cuda:0')\n",
      "\n",
      "INFO:__main__:avg_val_loss = tensor(0.3546, device='cuda:0')\n",
      "\n",
      "INFO:__main__:epoch = 9\n",
      "\n",
      "INFO:__main__:loss = tensor(0.0027, device='cuda:0')\n",
      "\n",
      "INFO:__main__:train_loss = tensor(0.0027, device='cuda:0')\n",
      "\n",
      "INFO:__main__:val_loss = tensor(0.3546, device='cuda:0')\n",
      "\n"
     ]
    },
    {
     "data": {
      "application/vnd.jupyter.widget-view+json": {
       "model_id": "",
       "version_major": 2,
       "version_minor": 0
      },
      "text/plain": [
       "Validating: 0it [00:00, ?it/s]"
      ]
     },
     "metadata": {},
     "output_type": "display_data"
    },
    {
     "name": "stderr",
     "output_type": "stream",
     "text": [
      "INFO:__main__:***** Validation results *****\n",
      "INFO:__main__:avg_train_loss = tensor(0.0231, device='cuda:0')\n",
      "\n",
      "INFO:__main__:avg_val_loss = tensor(0.4247, device='cuda:0')\n",
      "\n",
      "INFO:__main__:epoch = 10\n",
      "\n",
      "INFO:__main__:loss = tensor(0.0008, device='cuda:0')\n",
      "\n",
      "INFO:__main__:train_loss = tensor(0.0008, device='cuda:0')\n",
      "\n",
      "INFO:__main__:val_loss = tensor(0.4247, device='cuda:0')\n",
      "\n"
     ]
    },
    {
     "data": {
      "application/vnd.jupyter.widget-view+json": {
       "model_id": "",
       "version_major": 2,
       "version_minor": 0
      },
      "text/plain": [
       "Validating: 0it [00:00, ?it/s]"
      ]
     },
     "metadata": {},
     "output_type": "display_data"
    },
    {
     "name": "stderr",
     "output_type": "stream",
     "text": [
      "INFO:__main__:***** Validation results *****\n",
      "INFO:__main__:avg_train_loss = tensor(0.0201, device='cuda:0')\n",
      "\n",
      "INFO:__main__:avg_val_loss = tensor(0.3693, device='cuda:0')\n",
      "\n",
      "INFO:__main__:epoch = 11\n",
      "\n",
      "INFO:__main__:loss = tensor(0.0044, device='cuda:0')\n",
      "\n",
      "INFO:__main__:train_loss = tensor(0.0044, device='cuda:0')\n",
      "\n",
      "INFO:__main__:val_loss = tensor(0.3693, device='cuda:0')\n",
      "\n"
     ]
    },
    {
     "data": {
      "application/vnd.jupyter.widget-view+json": {
       "model_id": "",
       "version_major": 2,
       "version_minor": 0
      },
      "text/plain": [
       "Validating: 0it [00:00, ?it/s]"
      ]
     },
     "metadata": {},
     "output_type": "display_data"
    },
    {
     "name": "stderr",
     "output_type": "stream",
     "text": [
      "INFO:__main__:***** Validation results *****\n",
      "INFO:__main__:avg_train_loss = tensor(0.0088, device='cuda:0')\n",
      "\n",
      "INFO:__main__:avg_val_loss = tensor(0.4051, device='cuda:0')\n",
      "\n",
      "INFO:__main__:epoch = 12\n",
      "\n",
      "INFO:__main__:loss = tensor(0.0017, device='cuda:0')\n",
      "\n",
      "INFO:__main__:train_loss = tensor(0.0017, device='cuda:0')\n",
      "\n",
      "INFO:__main__:val_loss = tensor(0.4051, device='cuda:0')\n",
      "\n"
     ]
    },
    {
     "data": {
      "application/vnd.jupyter.widget-view+json": {
       "model_id": "",
       "version_major": 2,
       "version_minor": 0
      },
      "text/plain": [
       "Validating: 0it [00:00, ?it/s]"
      ]
     },
     "metadata": {},
     "output_type": "display_data"
    },
    {
     "name": "stderr",
     "output_type": "stream",
     "text": [
      "INFO:__main__:***** Validation results *****\n",
      "INFO:__main__:avg_train_loss = tensor(0.0073, device='cuda:0')\n",
      "\n",
      "INFO:__main__:avg_val_loss = tensor(0.4018, device='cuda:0')\n",
      "\n",
      "INFO:__main__:epoch = 13\n",
      "\n",
      "INFO:__main__:loss = tensor(0.0129, device='cuda:0')\n",
      "\n",
      "INFO:__main__:train_loss = tensor(0.0129, device='cuda:0')\n",
      "\n",
      "INFO:__main__:val_loss = tensor(0.4018, device='cuda:0')\n",
      "\n"
     ]
    },
    {
     "data": {
      "application/vnd.jupyter.widget-view+json": {
       "model_id": "",
       "version_major": 2,
       "version_minor": 0
      },
      "text/plain": [
       "Validating: 0it [00:00, ?it/s]"
      ]
     },
     "metadata": {},
     "output_type": "display_data"
    },
    {
     "name": "stderr",
     "output_type": "stream",
     "text": [
      "INFO:__main__:***** Validation results *****\n",
      "INFO:__main__:avg_train_loss = tensor(0.0078, device='cuda:0')\n",
      "\n",
      "INFO:__main__:avg_val_loss = tensor(0.3965, device='cuda:0')\n",
      "\n",
      "INFO:__main__:epoch = 14\n",
      "\n",
      "INFO:__main__:loss = tensor(0.0004, device='cuda:0')\n",
      "\n",
      "INFO:__main__:train_loss = tensor(0.0004, device='cuda:0')\n",
      "\n",
      "INFO:__main__:val_loss = tensor(0.3965, device='cuda:0')\n",
      "\n"
     ]
    },
    {
     "data": {
      "application/vnd.jupyter.widget-view+json": {
       "model_id": "",
       "version_major": 2,
       "version_minor": 0
      },
      "text/plain": [
       "Validating: 0it [00:00, ?it/s]"
      ]
     },
     "metadata": {},
     "output_type": "display_data"
    },
    {
     "name": "stderr",
     "output_type": "stream",
     "text": [
      "INFO:__main__:***** Validation results *****\n",
      "INFO:__main__:avg_train_loss = tensor(0.0059, device='cuda:0')\n",
      "\n",
      "INFO:__main__:avg_val_loss = tensor(0.3875, device='cuda:0')\n",
      "\n",
      "INFO:__main__:epoch = 15\n",
      "\n",
      "INFO:__main__:loss = tensor(0.0003, device='cuda:0')\n",
      "\n",
      "INFO:__main__:train_loss = tensor(0.0003, device='cuda:0')\n",
      "\n",
      "INFO:__main__:val_loss = tensor(0.3875, device='cuda:0')\n",
      "\n"
     ]
    },
    {
     "data": {
      "application/vnd.jupyter.widget-view+json": {
       "model_id": "",
       "version_major": 2,
       "version_minor": 0
      },
      "text/plain": [
       "Validating: 0it [00:00, ?it/s]"
      ]
     },
     "metadata": {},
     "output_type": "display_data"
    },
    {
     "name": "stderr",
     "output_type": "stream",
     "text": [
      "INFO:__main__:***** Validation results *****\n",
      "INFO:__main__:avg_train_loss = tensor(0.0078, device='cuda:0')\n",
      "\n",
      "INFO:__main__:avg_val_loss = tensor(0.3813, device='cuda:0')\n",
      "\n",
      "INFO:__main__:epoch = 16\n",
      "\n",
      "INFO:__main__:loss = tensor(0.0006, device='cuda:0')\n",
      "\n",
      "INFO:__main__:train_loss = tensor(0.0006, device='cuda:0')\n",
      "\n",
      "INFO:__main__:val_loss = tensor(0.3813, device='cuda:0')\n",
      "\n"
     ]
    },
    {
     "data": {
      "application/vnd.jupyter.widget-view+json": {
       "model_id": "",
       "version_major": 2,
       "version_minor": 0
      },
      "text/plain": [
       "Validating: 0it [00:00, ?it/s]"
      ]
     },
     "metadata": {},
     "output_type": "display_data"
    },
    {
     "name": "stderr",
     "output_type": "stream",
     "text": [
      "INFO:__main__:***** Validation results *****\n",
      "INFO:__main__:avg_train_loss = tensor(0.0045, device='cuda:0')\n",
      "\n",
      "INFO:__main__:avg_val_loss = tensor(0.3915, device='cuda:0')\n",
      "\n",
      "INFO:__main__:epoch = 17\n",
      "\n",
      "INFO:__main__:loss = tensor(0.0023, device='cuda:0')\n",
      "\n",
      "INFO:__main__:train_loss = tensor(0.0023, device='cuda:0')\n",
      "\n",
      "INFO:__main__:val_loss = tensor(0.3915, device='cuda:0')\n",
      "\n"
     ]
    },
    {
     "data": {
      "application/vnd.jupyter.widget-view+json": {
       "model_id": "",
       "version_major": 2,
       "version_minor": 0
      },
      "text/plain": [
       "Validating: 0it [00:00, ?it/s]"
      ]
     },
     "metadata": {},
     "output_type": "display_data"
    },
    {
     "name": "stderr",
     "output_type": "stream",
     "text": [
      "INFO:__main__:***** Validation results *****\n",
      "INFO:__main__:avg_train_loss = tensor(0.0042, device='cuda:0')\n",
      "\n",
      "INFO:__main__:avg_val_loss = tensor(0.3972, device='cuda:0')\n",
      "\n",
      "INFO:__main__:epoch = 18\n",
      "\n",
      "INFO:__main__:loss = tensor(0.0053, device='cuda:0')\n",
      "\n",
      "INFO:__main__:train_loss = tensor(0.0053, device='cuda:0')\n",
      "\n",
      "INFO:__main__:val_loss = tensor(0.3972, device='cuda:0')\n",
      "\n"
     ]
    },
    {
     "data": {
      "text/plain": [
       "1"
      ]
     },
     "execution_count": 22,
     "metadata": {},
     "output_type": "execute_result"
    }
   ],
   "source": [
    "trainer = pl.Trainer(**train_params)\n",
    "trainer.fit(model)"
   ]
  },
  {
   "cell_type": "code",
   "execution_count": 24,
   "metadata": {},
   "outputs": [
    {
     "ename": "KeyError",
     "evalue": "'__getstate__'",
     "output_type": "error",
     "traceback": [
      "\u001b[0;31m---------------------------------------------------------------------------\u001b[0m",
      "\u001b[0;31mKeyError\u001b[0m                                  Traceback (most recent call last)",
      "Input \u001b[0;32mIn [24]\u001b[0m, in \u001b[0;36m<cell line: 1>\u001b[0;34m()\u001b[0m\n\u001b[0;32m----> 1\u001b[0m \u001b[43mtorch\u001b[49m\u001b[38;5;241;43m.\u001b[39;49m\u001b[43msave\u001b[49m\u001b[43m(\u001b[49m\u001b[43mmodel\u001b[49m\u001b[43m,\u001b[49m\u001b[38;5;124;43m'\u001b[39;49m\u001b[38;5;124;43m/data/model.pth\u001b[39;49m\u001b[38;5;124;43m'\u001b[39;49m\u001b[43m)\u001b[49m\n",
      "File \u001b[0;32m~/.local/lib/python3.8/site-packages/torch/serialization.py:380\u001b[0m, in \u001b[0;36msave\u001b[0;34m(obj, f, pickle_module, pickle_protocol, _use_new_zipfile_serialization)\u001b[0m\n\u001b[1;32m    378\u001b[0m \u001b[38;5;28;01mif\u001b[39;00m _use_new_zipfile_serialization:\n\u001b[1;32m    379\u001b[0m     \u001b[38;5;28;01mwith\u001b[39;00m _open_zipfile_writer(opened_file) \u001b[38;5;28;01mas\u001b[39;00m opened_zipfile:\n\u001b[0;32m--> 380\u001b[0m         \u001b[43m_save\u001b[49m\u001b[43m(\u001b[49m\u001b[43mobj\u001b[49m\u001b[43m,\u001b[49m\u001b[43m \u001b[49m\u001b[43mopened_zipfile\u001b[49m\u001b[43m,\u001b[49m\u001b[43m \u001b[49m\u001b[43mpickle_module\u001b[49m\u001b[43m,\u001b[49m\u001b[43m \u001b[49m\u001b[43mpickle_protocol\u001b[49m\u001b[43m)\u001b[49m\n\u001b[1;32m    381\u001b[0m         \u001b[38;5;28;01mreturn\u001b[39;00m\n\u001b[1;32m    382\u001b[0m _legacy_save(obj, opened_file, pickle_module, pickle_protocol)\n",
      "File \u001b[0;32m~/.local/lib/python3.8/site-packages/torch/serialization.py:589\u001b[0m, in \u001b[0;36m_save\u001b[0;34m(obj, zip_file, pickle_module, pickle_protocol)\u001b[0m\n\u001b[1;32m    587\u001b[0m pickler \u001b[38;5;241m=\u001b[39m pickle_module\u001b[38;5;241m.\u001b[39mPickler(data_buf, protocol\u001b[38;5;241m=\u001b[39mpickle_protocol)\n\u001b[1;32m    588\u001b[0m pickler\u001b[38;5;241m.\u001b[39mpersistent_id \u001b[38;5;241m=\u001b[39m persistent_id\n\u001b[0;32m--> 589\u001b[0m \u001b[43mpickler\u001b[49m\u001b[38;5;241;43m.\u001b[39;49m\u001b[43mdump\u001b[49m\u001b[43m(\u001b[49m\u001b[43mobj\u001b[49m\u001b[43m)\u001b[49m\n\u001b[1;32m    590\u001b[0m data_value \u001b[38;5;241m=\u001b[39m data_buf\u001b[38;5;241m.\u001b[39mgetvalue()\n\u001b[1;32m    591\u001b[0m zip_file\u001b[38;5;241m.\u001b[39mwrite_record(\u001b[38;5;124m'\u001b[39m\u001b[38;5;124mdata.pkl\u001b[39m\u001b[38;5;124m'\u001b[39m, data_value, \u001b[38;5;28mlen\u001b[39m(data_value))\n",
      "File \u001b[0;32m~/.local/lib/python3.8/site-packages/transformers/tokenization_utils.py:199\u001b[0m, in \u001b[0;36mBatchEncoding.__getattr__\u001b[0;34m(self, item)\u001b[0m\n\u001b[1;32m    198\u001b[0m \u001b[38;5;28;01mdef\u001b[39;00m \u001b[38;5;21m__getattr__\u001b[39m(\u001b[38;5;28mself\u001b[39m, item: \u001b[38;5;28mstr\u001b[39m):\n\u001b[0;32m--> 199\u001b[0m     \u001b[38;5;28;01mreturn\u001b[39;00m \u001b[38;5;28;43mself\u001b[39;49m\u001b[38;5;241;43m.\u001b[39;49m\u001b[43mdata\u001b[49m\u001b[43m[\u001b[49m\u001b[43mitem\u001b[49m\u001b[43m]\u001b[49m\n",
      "\u001b[0;31mKeyError\u001b[0m: '__getstate__'"
     ]
    }
   ],
   "source": [
    "torch.save(model,'/data/model.pth')"
   ]
  },
  {
   "cell_type": "code",
   "execution_count": 23,
   "metadata": {},
   "outputs": [
    {
     "name": "stderr",
     "output_type": "stream",
     "text": [
      "INFO:transformers.configuration_utils:loading configuration file https://s3.amazonaws.com/models.huggingface.co/bert/t5-base-config.json from cache at /home/amadeus/.cache/torch/transformers/40578967d1f029acb6162b36db9d8b4307063e885990ccd297c2c5be1cf1b3d7.2995d650f5eba18c8baa4146e210d32d56165e90d374281741fc78b872cd6c9b\n",
      "INFO:transformers.configuration_utils:Model config T5Config {\n",
      "  \"architectures\": [\n",
      "    \"T5WithLMHeadModel\"\n",
      "  ],\n",
      "  \"d_ff\": 3072,\n",
      "  \"d_kv\": 64,\n",
      "  \"d_model\": 768,\n",
      "  \"decoder_start_token_id\": 0,\n",
      "  \"dropout_rate\": 0.1,\n",
      "  \"eos_token_id\": 1,\n",
      "  \"initializer_factor\": 1.0,\n",
      "  \"is_encoder_decoder\": true,\n",
      "  \"layer_norm_epsilon\": 1e-06,\n",
      "  \"model_type\": \"t5\",\n",
      "  \"n_positions\": 512,\n",
      "  \"num_heads\": 12,\n",
      "  \"num_layers\": 12,\n",
      "  \"output_past\": true,\n",
      "  \"pad_token_id\": 0,\n",
      "  \"relative_attention_num_buckets\": 32,\n",
      "  \"task_specific_params\": {\n",
      "    \"summarization\": {\n",
      "      \"early_stopping\": true,\n",
      "      \"length_penalty\": 2.0,\n",
      "      \"max_length\": 200,\n",
      "      \"min_length\": 30,\n",
      "      \"no_repeat_ngram_size\": 3,\n",
      "      \"num_beams\": 4,\n",
      "      \"prefix\": \"summarize: \"\n",
      "    },\n",
      "    \"translation_en_to_de\": {\n",
      "      \"early_stopping\": true,\n",
      "      \"max_length\": 300,\n",
      "      \"num_beams\": 4,\n",
      "      \"prefix\": \"translate English to German: \"\n",
      "    },\n",
      "    \"translation_en_to_fr\": {\n",
      "      \"early_stopping\": true,\n",
      "      \"max_length\": 300,\n",
      "      \"num_beams\": 4,\n",
      "      \"prefix\": \"translate English to French: \"\n",
      "    },\n",
      "    \"translation_en_to_ro\": {\n",
      "      \"early_stopping\": true,\n",
      "      \"max_length\": 300,\n",
      "      \"num_beams\": 4,\n",
      "      \"prefix\": \"translate English to Romanian: \"\n",
      "    }\n",
      "  },\n",
      "  \"vocab_size\": 32128\n",
      "}\n",
      "\n",
      "INFO:transformers.modeling_utils:loading weights file https://cdn.huggingface.co/t5-base-pytorch_model.bin from cache at /home/amadeus/.cache/torch/transformers/f6f2fde9fa7611f4eff74620de9cbe734e7a717b5b143bd283cae4c2d6022990.54f906ff53bd09195cfc183a29cadc81b7705f07fcdb796d24163cb632b6bdfa\n",
      "INFO:transformers.modeling_utils:Weights of T5ForConditionalGeneration not initialized from pretrained model: ['encoder.embed_tokens.weight', 'decoder.embed_tokens.weight', 'lm_head.weight']\n",
      "INFO:transformers.tokenization_utils:loading file https://s3.amazonaws.com/models.huggingface.co/bert/t5-spiece.model from cache at /home/amadeus/.cache/torch/transformers/68f1b8dbca4350743bb54b8c4169fd38cbabaad564f85a9239337a8d0342af9f.9995af32582a1a7062cb3173c118cb7b4636fa03feb967340f20fc37406f021f\n"
     ]
    }
   ],
   "source": [
    "new_model = T5FineTuner(args)"
   ]
  },
  {
   "cell_type": "code",
   "execution_count": 26,
   "metadata": {},
   "outputs": [
    {
     "data": {
      "text/plain": [
       "<All keys matched successfully>"
      ]
     },
     "execution_count": 26,
     "metadata": {},
     "output_type": "execute_result"
    }
   ],
   "source": [
    "state = torch.load(\"/data/t5_fact/checkpointepoch=7_v0.ckpt\")\n",
    "new_model.load_state_dict(state['state_dict'])"
   ]
  },
  {
   "cell_type": "code",
   "execution_count": null,
   "metadata": {},
   "outputs": [],
   "source": []
  }
 ],
 "metadata": {
  "kernelspec": {
   "display_name": "Python 3 (ipykernel)",
   "language": "python",
   "name": "python3"
  },
  "language_info": {
   "codemirror_mode": {
    "name": "ipython",
    "version": 3
   },
   "file_extension": ".py",
   "mimetype": "text/x-python",
   "name": "python",
   "nbconvert_exporter": "python",
   "pygments_lexer": "ipython3",
   "version": "3.8.10"
  }
 },
 "nbformat": 4,
 "nbformat_minor": 2
}
